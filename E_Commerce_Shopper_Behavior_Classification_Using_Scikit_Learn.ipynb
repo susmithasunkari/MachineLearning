{
  "nbformat": 4,
  "nbformat_minor": 0,
  "metadata": {
    "colab": {
      "provenance": []
    },
    "kernelspec": {
      "name": "python3",
      "display_name": "Python 3"
    },
    "language_info": {
      "name": "python"
    }
  },
  "cells": [
    {
      "cell_type": "code",
      "execution_count": null,
      "metadata": {
        "id": "OCvDwaF7gMND"
      },
      "outputs": [],
      "source": [
        "import pandas as pd\n",
        "from sklearn.preprocessing import StandardScaler, LabelEncoder\n",
        "from sklearn.model_selection import train_test_split\n",
        "from sklearn.metrics import classification_report\n",
        "from imblearn.over_sampling import SMOTE\n",
        "from imblearn.under_sampling import RandomUnderSampler\n",
        "from sklearn.neighbors import KNeighborsClassifier\n",
        "from sklearn.tree import DecisionTreeClassifier\n",
        "from sklearn.model_selection import GridSearchCV\n",
        "from sklearn.naive_bayes import GaussianNB\n",
        "from sklearn.linear_model import LogisticRegression\n",
        "from sklearn.ensemble import GradientBoostingClassifier\n",
        "from sklearn.svm import SVC\n",
        "from sklearn.ensemble import BaggingClassifier\n",
        "from sklearn.ensemble import AdaBoostClassifier\n",
        "from sklearn.tree import DecisionTreeClassifier\n",
        "from sklearn.ensemble import RandomForestClassifier\n",
        "from sklearn.neural_network import MLPClassifier\n",
        "from sklearn.preprocessing import MinMaxScaler"
      ]
    },
    {
      "cell_type": "code",
      "source": [
        "# Data preprocessing\n",
        "shoppers_data = pd.read_csv(\"online_shoppers_intention.csv\")\n",
        "print(shoppers_data.info())"
      ],
      "metadata": {
        "colab": {
          "base_uri": "https://localhost:8080/"
        },
        "id": "Fqybz5qrgjQa",
        "outputId": "d79c7ecc-eb5b-4706-9309-983e9a869dc7"
      },
      "execution_count": null,
      "outputs": [
        {
          "output_type": "stream",
          "name": "stdout",
          "text": [
            "<class 'pandas.core.frame.DataFrame'>\n",
            "RangeIndex: 12330 entries, 0 to 12329\n",
            "Data columns (total 18 columns):\n",
            " #   Column                   Non-Null Count  Dtype  \n",
            "---  ------                   --------------  -----  \n",
            " 0   Administrative           12330 non-null  int64  \n",
            " 1   Administrative_Duration  12330 non-null  float64\n",
            " 2   Informational            12330 non-null  int64  \n",
            " 3   Informational_Duration   12330 non-null  float64\n",
            " 4   ProductRelated           12330 non-null  int64  \n",
            " 5   ProductRelated_Duration  12330 non-null  float64\n",
            " 6   BounceRates              12330 non-null  float64\n",
            " 7   ExitRates                12330 non-null  float64\n",
            " 8   PageValues               12330 non-null  float64\n",
            " 9   SpecialDay               12330 non-null  float64\n",
            " 10  Month                    12330 non-null  object \n",
            " 11  OperatingSystems         12330 non-null  int64  \n",
            " 12  Browser                  12330 non-null  int64  \n",
            " 13  Region                   12330 non-null  int64  \n",
            " 14  TrafficType              12330 non-null  int64  \n",
            " 15  VisitorType              12330 non-null  object \n",
            " 16  Weekend                  12330 non-null  bool   \n",
            " 17  Revenue                  12330 non-null  bool   \n",
            "dtypes: bool(2), float64(7), int64(7), object(2)\n",
            "memory usage: 1.5+ MB\n",
            "None\n"
          ]
        }
      ]
    },
    {
      "cell_type": "markdown",
      "source": [
        "This dataset contains 12,330 records of online shopping behavior, tracking visitor activity, engagement, and purchase decisions. It includes administrative and informational page visits, product-related interactions, bounce and exit rates, page values, special days, and technical details like the visitor's operating system, browser, region, and traffic type. The target variable, Revenue, indicates whether a visitor made a purchase (True/False), making this a binary classification problem.\n",
        "Project Workflow & Techniques Used:\n",
        "   * Data Cleaning: Handled missing values, outliers, and inconsistencies.\n",
        "   * Over-Sampling & Under-Sampling: Balanced the dataset using techniques like SMOTE to handle class imbalance.\n",
        "   * Train-Test Splitting: Prepared the dataset for training and evaluation.\n",
        "Machine Learning Models Applied (Scikit-Learn):\n",
        "    * Logistic Regression, Naïve Bayes, KNN, Decision Tree (with pruning), Gradient Boosting, SVM, Bagging, Boosting, Random Forest, and Neural Networks were implemented.\n",
        "Model Evaluation:\n",
        "    * Created a confusion matrix heatmap to analyze classification performance.\n",
        "    * ROC Curve & Precision-Recall Curve to assess model effectiveness.\n",
        "    * Feature Selection to identify important predictors.\n",
        "Visualizations & Insights:\n",
        "   * Matplotlib was used to create pie charts, histograms, and other visualizations to understand visitor behavior and traffic trends.\n",
        "Use Cases:\n",
        "   * Customer Purchase Prediction: Classifies whether a visitor is likely to make a purchase.\n",
        "   * Website Optimization: Helps e-commerce businesses understand which features influence purchases.\n",
        "   * Traffic Analysis: Identifies visitor trends across different regions, devices, and times of the year.\n",
        "   *  Marketing Strategy: Improves targeted marketing efforts based on user behavior.\n",
        "This project provides valuable insights for e-commerce platforms to enhance customer experience, optimize website design, and increase conversions. 🛍️📊\n"
      ],
      "metadata": {
        "id": "gpcz01Cb5j0B"
      }
    },
    {
      "cell_type": "code",
      "source": [
        "shoppers_data.head(5)"
      ],
      "metadata": {
        "colab": {
          "base_uri": "https://localhost:8080/",
          "height": 226
        },
        "id": "ciABg08NYHjN",
        "outputId": "ac9919d7-a06e-4966-9304-66709f87b201"
      },
      "execution_count": null,
      "outputs": [
        {
          "output_type": "execute_result",
          "data": {
            "text/plain": [
              "   Administrative  Administrative_Duration  Informational  \\\n",
              "0               0                      0.0              0   \n",
              "1               0                      0.0              0   \n",
              "2               0                      0.0              0   \n",
              "3               0                      0.0              0   \n",
              "4               0                      0.0              0   \n",
              "\n",
              "   Informational_Duration  ProductRelated  ProductRelated_Duration  \\\n",
              "0                     0.0               1                 0.000000   \n",
              "1                     0.0               2                64.000000   \n",
              "2                     0.0               1                 0.000000   \n",
              "3                     0.0               2                 2.666667   \n",
              "4                     0.0              10               627.500000   \n",
              "\n",
              "   BounceRates  ExitRates  PageValues  SpecialDay Month  OperatingSystems  \\\n",
              "0         0.20       0.20         0.0         0.0   Feb                 1   \n",
              "1         0.00       0.10         0.0         0.0   Feb                 2   \n",
              "2         0.20       0.20         0.0         0.0   Feb                 4   \n",
              "3         0.05       0.14         0.0         0.0   Feb                 3   \n",
              "4         0.02       0.05         0.0         0.0   Feb                 3   \n",
              "\n",
              "   Browser  Region  TrafficType        VisitorType  Weekend  Revenue  \n",
              "0        1       1            1  Returning_Visitor    False    False  \n",
              "1        2       1            2  Returning_Visitor    False    False  \n",
              "2        1       9            3  Returning_Visitor    False    False  \n",
              "3        2       2            4  Returning_Visitor    False    False  \n",
              "4        3       1            4  Returning_Visitor     True    False  "
            ],
            "text/html": [
              "\n",
              "  <div id=\"df-81b1ada5-1a9f-44ee-b76f-bf30d9cf4df1\" class=\"colab-df-container\">\n",
              "    <div>\n",
              "<style scoped>\n",
              "    .dataframe tbody tr th:only-of-type {\n",
              "        vertical-align: middle;\n",
              "    }\n",
              "\n",
              "    .dataframe tbody tr th {\n",
              "        vertical-align: top;\n",
              "    }\n",
              "\n",
              "    .dataframe thead th {\n",
              "        text-align: right;\n",
              "    }\n",
              "</style>\n",
              "<table border=\"1\" class=\"dataframe\">\n",
              "  <thead>\n",
              "    <tr style=\"text-align: right;\">\n",
              "      <th></th>\n",
              "      <th>Administrative</th>\n",
              "      <th>Administrative_Duration</th>\n",
              "      <th>Informational</th>\n",
              "      <th>Informational_Duration</th>\n",
              "      <th>ProductRelated</th>\n",
              "      <th>ProductRelated_Duration</th>\n",
              "      <th>BounceRates</th>\n",
              "      <th>ExitRates</th>\n",
              "      <th>PageValues</th>\n",
              "      <th>SpecialDay</th>\n",
              "      <th>Month</th>\n",
              "      <th>OperatingSystems</th>\n",
              "      <th>Browser</th>\n",
              "      <th>Region</th>\n",
              "      <th>TrafficType</th>\n",
              "      <th>VisitorType</th>\n",
              "      <th>Weekend</th>\n",
              "      <th>Revenue</th>\n",
              "    </tr>\n",
              "  </thead>\n",
              "  <tbody>\n",
              "    <tr>\n",
              "      <th>0</th>\n",
              "      <td>0</td>\n",
              "      <td>0.0</td>\n",
              "      <td>0</td>\n",
              "      <td>0.0</td>\n",
              "      <td>1</td>\n",
              "      <td>0.000000</td>\n",
              "      <td>0.20</td>\n",
              "      <td>0.20</td>\n",
              "      <td>0.0</td>\n",
              "      <td>0.0</td>\n",
              "      <td>Feb</td>\n",
              "      <td>1</td>\n",
              "      <td>1</td>\n",
              "      <td>1</td>\n",
              "      <td>1</td>\n",
              "      <td>Returning_Visitor</td>\n",
              "      <td>False</td>\n",
              "      <td>False</td>\n",
              "    </tr>\n",
              "    <tr>\n",
              "      <th>1</th>\n",
              "      <td>0</td>\n",
              "      <td>0.0</td>\n",
              "      <td>0</td>\n",
              "      <td>0.0</td>\n",
              "      <td>2</td>\n",
              "      <td>64.000000</td>\n",
              "      <td>0.00</td>\n",
              "      <td>0.10</td>\n",
              "      <td>0.0</td>\n",
              "      <td>0.0</td>\n",
              "      <td>Feb</td>\n",
              "      <td>2</td>\n",
              "      <td>2</td>\n",
              "      <td>1</td>\n",
              "      <td>2</td>\n",
              "      <td>Returning_Visitor</td>\n",
              "      <td>False</td>\n",
              "      <td>False</td>\n",
              "    </tr>\n",
              "    <tr>\n",
              "      <th>2</th>\n",
              "      <td>0</td>\n",
              "      <td>0.0</td>\n",
              "      <td>0</td>\n",
              "      <td>0.0</td>\n",
              "      <td>1</td>\n",
              "      <td>0.000000</td>\n",
              "      <td>0.20</td>\n",
              "      <td>0.20</td>\n",
              "      <td>0.0</td>\n",
              "      <td>0.0</td>\n",
              "      <td>Feb</td>\n",
              "      <td>4</td>\n",
              "      <td>1</td>\n",
              "      <td>9</td>\n",
              "      <td>3</td>\n",
              "      <td>Returning_Visitor</td>\n",
              "      <td>False</td>\n",
              "      <td>False</td>\n",
              "    </tr>\n",
              "    <tr>\n",
              "      <th>3</th>\n",
              "      <td>0</td>\n",
              "      <td>0.0</td>\n",
              "      <td>0</td>\n",
              "      <td>0.0</td>\n",
              "      <td>2</td>\n",
              "      <td>2.666667</td>\n",
              "      <td>0.05</td>\n",
              "      <td>0.14</td>\n",
              "      <td>0.0</td>\n",
              "      <td>0.0</td>\n",
              "      <td>Feb</td>\n",
              "      <td>3</td>\n",
              "      <td>2</td>\n",
              "      <td>2</td>\n",
              "      <td>4</td>\n",
              "      <td>Returning_Visitor</td>\n",
              "      <td>False</td>\n",
              "      <td>False</td>\n",
              "    </tr>\n",
              "    <tr>\n",
              "      <th>4</th>\n",
              "      <td>0</td>\n",
              "      <td>0.0</td>\n",
              "      <td>0</td>\n",
              "      <td>0.0</td>\n",
              "      <td>10</td>\n",
              "      <td>627.500000</td>\n",
              "      <td>0.02</td>\n",
              "      <td>0.05</td>\n",
              "      <td>0.0</td>\n",
              "      <td>0.0</td>\n",
              "      <td>Feb</td>\n",
              "      <td>3</td>\n",
              "      <td>3</td>\n",
              "      <td>1</td>\n",
              "      <td>4</td>\n",
              "      <td>Returning_Visitor</td>\n",
              "      <td>True</td>\n",
              "      <td>False</td>\n",
              "    </tr>\n",
              "  </tbody>\n",
              "</table>\n",
              "</div>\n",
              "    <div class=\"colab-df-buttons\">\n",
              "\n",
              "  <div class=\"colab-df-container\">\n",
              "    <button class=\"colab-df-convert\" onclick=\"convertToInteractive('df-81b1ada5-1a9f-44ee-b76f-bf30d9cf4df1')\"\n",
              "            title=\"Convert this dataframe to an interactive table.\"\n",
              "            style=\"display:none;\">\n",
              "\n",
              "  <svg xmlns=\"http://www.w3.org/2000/svg\" height=\"24px\" viewBox=\"0 -960 960 960\">\n",
              "    <path d=\"M120-120v-720h720v720H120Zm60-500h600v-160H180v160Zm220 220h160v-160H400v160Zm0 220h160v-160H400v160ZM180-400h160v-160H180v160Zm440 0h160v-160H620v160ZM180-180h160v-160H180v160Zm440 0h160v-160H620v160Z\"/>\n",
              "  </svg>\n",
              "    </button>\n",
              "\n",
              "  <style>\n",
              "    .colab-df-container {\n",
              "      display:flex;\n",
              "      gap: 12px;\n",
              "    }\n",
              "\n",
              "    .colab-df-convert {\n",
              "      background-color: #E8F0FE;\n",
              "      border: none;\n",
              "      border-radius: 50%;\n",
              "      cursor: pointer;\n",
              "      display: none;\n",
              "      fill: #1967D2;\n",
              "      height: 32px;\n",
              "      padding: 0 0 0 0;\n",
              "      width: 32px;\n",
              "    }\n",
              "\n",
              "    .colab-df-convert:hover {\n",
              "      background-color: #E2EBFA;\n",
              "      box-shadow: 0px 1px 2px rgba(60, 64, 67, 0.3), 0px 1px 3px 1px rgba(60, 64, 67, 0.15);\n",
              "      fill: #174EA6;\n",
              "    }\n",
              "\n",
              "    .colab-df-buttons div {\n",
              "      margin-bottom: 4px;\n",
              "    }\n",
              "\n",
              "    [theme=dark] .colab-df-convert {\n",
              "      background-color: #3B4455;\n",
              "      fill: #D2E3FC;\n",
              "    }\n",
              "\n",
              "    [theme=dark] .colab-df-convert:hover {\n",
              "      background-color: #434B5C;\n",
              "      box-shadow: 0px 1px 3px 1px rgba(0, 0, 0, 0.15);\n",
              "      filter: drop-shadow(0px 1px 2px rgba(0, 0, 0, 0.3));\n",
              "      fill: #FFFFFF;\n",
              "    }\n",
              "  </style>\n",
              "\n",
              "    <script>\n",
              "      const buttonEl =\n",
              "        document.querySelector('#df-81b1ada5-1a9f-44ee-b76f-bf30d9cf4df1 button.colab-df-convert');\n",
              "      buttonEl.style.display =\n",
              "        google.colab.kernel.accessAllowed ? 'block' : 'none';\n",
              "\n",
              "      async function convertToInteractive(key) {\n",
              "        const element = document.querySelector('#df-81b1ada5-1a9f-44ee-b76f-bf30d9cf4df1');\n",
              "        const dataTable =\n",
              "          await google.colab.kernel.invokeFunction('convertToInteractive',\n",
              "                                                    [key], {});\n",
              "        if (!dataTable) return;\n",
              "\n",
              "        const docLinkHtml = 'Like what you see? Visit the ' +\n",
              "          '<a target=\"_blank\" href=https://colab.research.google.com/notebooks/data_table.ipynb>data table notebook</a>'\n",
              "          + ' to learn more about interactive tables.';\n",
              "        element.innerHTML = '';\n",
              "        dataTable['output_type'] = 'display_data';\n",
              "        await google.colab.output.renderOutput(dataTable, element);\n",
              "        const docLink = document.createElement('div');\n",
              "        docLink.innerHTML = docLinkHtml;\n",
              "        element.appendChild(docLink);\n",
              "      }\n",
              "    </script>\n",
              "  </div>\n",
              "\n",
              "\n",
              "<div id=\"df-0ae987e2-a9f3-441c-8a46-d336cbfd2ad4\">\n",
              "  <button class=\"colab-df-quickchart\" onclick=\"quickchart('df-0ae987e2-a9f3-441c-8a46-d336cbfd2ad4')\"\n",
              "            title=\"Suggest charts\"\n",
              "            style=\"display:none;\">\n",
              "\n",
              "<svg xmlns=\"http://www.w3.org/2000/svg\" height=\"24px\"viewBox=\"0 0 24 24\"\n",
              "     width=\"24px\">\n",
              "    <g>\n",
              "        <path d=\"M19 3H5c-1.1 0-2 .9-2 2v14c0 1.1.9 2 2 2h14c1.1 0 2-.9 2-2V5c0-1.1-.9-2-2-2zM9 17H7v-7h2v7zm4 0h-2V7h2v10zm4 0h-2v-4h2v4z\"/>\n",
              "    </g>\n",
              "</svg>\n",
              "  </button>\n",
              "\n",
              "<style>\n",
              "  .colab-df-quickchart {\n",
              "      --bg-color: #E8F0FE;\n",
              "      --fill-color: #1967D2;\n",
              "      --hover-bg-color: #E2EBFA;\n",
              "      --hover-fill-color: #174EA6;\n",
              "      --disabled-fill-color: #AAA;\n",
              "      --disabled-bg-color: #DDD;\n",
              "  }\n",
              "\n",
              "  [theme=dark] .colab-df-quickchart {\n",
              "      --bg-color: #3B4455;\n",
              "      --fill-color: #D2E3FC;\n",
              "      --hover-bg-color: #434B5C;\n",
              "      --hover-fill-color: #FFFFFF;\n",
              "      --disabled-bg-color: #3B4455;\n",
              "      --disabled-fill-color: #666;\n",
              "  }\n",
              "\n",
              "  .colab-df-quickchart {\n",
              "    background-color: var(--bg-color);\n",
              "    border: none;\n",
              "    border-radius: 50%;\n",
              "    cursor: pointer;\n",
              "    display: none;\n",
              "    fill: var(--fill-color);\n",
              "    height: 32px;\n",
              "    padding: 0;\n",
              "    width: 32px;\n",
              "  }\n",
              "\n",
              "  .colab-df-quickchart:hover {\n",
              "    background-color: var(--hover-bg-color);\n",
              "    box-shadow: 0 1px 2px rgba(60, 64, 67, 0.3), 0 1px 3px 1px rgba(60, 64, 67, 0.15);\n",
              "    fill: var(--button-hover-fill-color);\n",
              "  }\n",
              "\n",
              "  .colab-df-quickchart-complete:disabled,\n",
              "  .colab-df-quickchart-complete:disabled:hover {\n",
              "    background-color: var(--disabled-bg-color);\n",
              "    fill: var(--disabled-fill-color);\n",
              "    box-shadow: none;\n",
              "  }\n",
              "\n",
              "  .colab-df-spinner {\n",
              "    border: 2px solid var(--fill-color);\n",
              "    border-color: transparent;\n",
              "    border-bottom-color: var(--fill-color);\n",
              "    animation:\n",
              "      spin 1s steps(1) infinite;\n",
              "  }\n",
              "\n",
              "  @keyframes spin {\n",
              "    0% {\n",
              "      border-color: transparent;\n",
              "      border-bottom-color: var(--fill-color);\n",
              "      border-left-color: var(--fill-color);\n",
              "    }\n",
              "    20% {\n",
              "      border-color: transparent;\n",
              "      border-left-color: var(--fill-color);\n",
              "      border-top-color: var(--fill-color);\n",
              "    }\n",
              "    30% {\n",
              "      border-color: transparent;\n",
              "      border-left-color: var(--fill-color);\n",
              "      border-top-color: var(--fill-color);\n",
              "      border-right-color: var(--fill-color);\n",
              "    }\n",
              "    40% {\n",
              "      border-color: transparent;\n",
              "      border-right-color: var(--fill-color);\n",
              "      border-top-color: var(--fill-color);\n",
              "    }\n",
              "    60% {\n",
              "      border-color: transparent;\n",
              "      border-right-color: var(--fill-color);\n",
              "    }\n",
              "    80% {\n",
              "      border-color: transparent;\n",
              "      border-right-color: var(--fill-color);\n",
              "      border-bottom-color: var(--fill-color);\n",
              "    }\n",
              "    90% {\n",
              "      border-color: transparent;\n",
              "      border-bottom-color: var(--fill-color);\n",
              "    }\n",
              "  }\n",
              "</style>\n",
              "\n",
              "  <script>\n",
              "    async function quickchart(key) {\n",
              "      const quickchartButtonEl =\n",
              "        document.querySelector('#' + key + ' button');\n",
              "      quickchartButtonEl.disabled = true;  // To prevent multiple clicks.\n",
              "      quickchartButtonEl.classList.add('colab-df-spinner');\n",
              "      try {\n",
              "        const charts = await google.colab.kernel.invokeFunction(\n",
              "            'suggestCharts', [key], {});\n",
              "      } catch (error) {\n",
              "        console.error('Error during call to suggestCharts:', error);\n",
              "      }\n",
              "      quickchartButtonEl.classList.remove('colab-df-spinner');\n",
              "      quickchartButtonEl.classList.add('colab-df-quickchart-complete');\n",
              "    }\n",
              "    (() => {\n",
              "      let quickchartButtonEl =\n",
              "        document.querySelector('#df-0ae987e2-a9f3-441c-8a46-d336cbfd2ad4 button');\n",
              "      quickchartButtonEl.style.display =\n",
              "        google.colab.kernel.accessAllowed ? 'block' : 'none';\n",
              "    })();\n",
              "  </script>\n",
              "</div>\n",
              "\n",
              "    </div>\n",
              "  </div>\n"
            ],
            "application/vnd.google.colaboratory.intrinsic+json": {
              "type": "dataframe",
              "variable_name": "shoppers_data",
              "summary": "{\n  \"name\": \"shoppers_data\",\n  \"rows\": 12330,\n  \"fields\": [\n    {\n      \"column\": \"Administrative\",\n      \"properties\": {\n        \"dtype\": \"number\",\n        \"std\": 3,\n        \"min\": 0,\n        \"max\": 27,\n        \"num_unique_values\": 27,\n        \"samples\": [\n          5,\n          11,\n          9\n        ],\n        \"semantic_type\": \"\",\n        \"description\": \"\"\n      }\n    },\n    {\n      \"column\": \"Administrative_Duration\",\n      \"properties\": {\n        \"dtype\": \"number\",\n        \"std\": 176.77910747048634,\n        \"min\": 0.0,\n        \"max\": 3398.75,\n        \"num_unique_values\": 3335,\n        \"samples\": [\n          93.6,\n          63.08333333,\n          351.0833333\n        ],\n        \"semantic_type\": \"\",\n        \"description\": \"\"\n      }\n    },\n    {\n      \"column\": \"Informational\",\n      \"properties\": {\n        \"dtype\": \"number\",\n        \"std\": 1,\n        \"min\": 0,\n        \"max\": 24,\n        \"num_unique_values\": 17,\n        \"samples\": [\n          0,\n          1,\n          5\n        ],\n        \"semantic_type\": \"\",\n        \"description\": \"\"\n      }\n    },\n    {\n      \"column\": \"Informational_Duration\",\n      \"properties\": {\n        \"dtype\": \"number\",\n        \"std\": 140.74929442219798,\n        \"min\": 0.0,\n        \"max\": 2549.375,\n        \"num_unique_values\": 1258,\n        \"samples\": [\n          793.8,\n          50.0,\n          57.0\n        ],\n        \"semantic_type\": \"\",\n        \"description\": \"\"\n      }\n    },\n    {\n      \"column\": \"ProductRelated\",\n      \"properties\": {\n        \"dtype\": \"number\",\n        \"std\": 44,\n        \"min\": 0,\n        \"max\": 705,\n        \"num_unique_values\": 311,\n        \"samples\": [\n          330,\n          23,\n          54\n        ],\n        \"semantic_type\": \"\",\n        \"description\": \"\"\n      }\n    },\n    {\n      \"column\": \"ProductRelated_Duration\",\n      \"properties\": {\n        \"dtype\": \"number\",\n        \"std\": 1913.6692878720035,\n        \"min\": 0.0,\n        \"max\": 63973.52223,\n        \"num_unique_values\": 9551,\n        \"samples\": [\n          225.68,\n          232.6666667,\n          2834.280117\n        ],\n        \"semantic_type\": \"\",\n        \"description\": \"\"\n      }\n    },\n    {\n      \"column\": \"BounceRates\",\n      \"properties\": {\n        \"dtype\": \"number\",\n        \"std\": 0.048488321806260656,\n        \"min\": 0.0,\n        \"max\": 0.2,\n        \"num_unique_values\": 1872,\n        \"samples\": [\n          0.004778942,\n          0.010793651,\n          0.005073996\n        ],\n        \"semantic_type\": \"\",\n        \"description\": \"\"\n      }\n    },\n    {\n      \"column\": \"ExitRates\",\n      \"properties\": {\n        \"dtype\": \"number\",\n        \"std\": 0.048596540551443565,\n        \"min\": 0.0,\n        \"max\": 0.2,\n        \"num_unique_values\": 4777,\n        \"samples\": [\n          0.120833333,\n          0.006857143,\n          0.008914729\n        ],\n        \"semantic_type\": \"\",\n        \"description\": \"\"\n      }\n    },\n    {\n      \"column\": \"PageValues\",\n      \"properties\": {\n        \"dtype\": \"number\",\n        \"std\": 18.568436607806525,\n        \"min\": 0.0,\n        \"max\": 361.7637419,\n        \"num_unique_values\": 2704,\n        \"samples\": [\n          54.65714872,\n          20.97239726,\n          11.65996434\n        ],\n        \"semantic_type\": \"\",\n        \"description\": \"\"\n      }\n    },\n    {\n      \"column\": \"SpecialDay\",\n      \"properties\": {\n        \"dtype\": \"number\",\n        \"std\": 0.19891727315262864,\n        \"min\": 0.0,\n        \"max\": 1.0,\n        \"num_unique_values\": 6,\n        \"samples\": [\n          0.0,\n          0.4,\n          0.6\n        ],\n        \"semantic_type\": \"\",\n        \"description\": \"\"\n      }\n    },\n    {\n      \"column\": \"Month\",\n      \"properties\": {\n        \"dtype\": \"category\",\n        \"num_unique_values\": 10,\n        \"samples\": [\n          \"Sep\",\n          \"Mar\",\n          \"Jul\"\n        ],\n        \"semantic_type\": \"\",\n        \"description\": \"\"\n      }\n    },\n    {\n      \"column\": \"OperatingSystems\",\n      \"properties\": {\n        \"dtype\": \"number\",\n        \"std\": 0,\n        \"min\": 1,\n        \"max\": 8,\n        \"num_unique_values\": 8,\n        \"samples\": [\n          2,\n          6,\n          1\n        ],\n        \"semantic_type\": \"\",\n        \"description\": \"\"\n      }\n    },\n    {\n      \"column\": \"Browser\",\n      \"properties\": {\n        \"dtype\": \"number\",\n        \"std\": 1,\n        \"min\": 1,\n        \"max\": 13,\n        \"num_unique_values\": 13,\n        \"samples\": [\n          13,\n          9,\n          1\n        ],\n        \"semantic_type\": \"\",\n        \"description\": \"\"\n      }\n    },\n    {\n      \"column\": \"Region\",\n      \"properties\": {\n        \"dtype\": \"number\",\n        \"std\": 2,\n        \"min\": 1,\n        \"max\": 9,\n        \"num_unique_values\": 9,\n        \"samples\": [\n          7,\n          9,\n          5\n        ],\n        \"semantic_type\": \"\",\n        \"description\": \"\"\n      }\n    },\n    {\n      \"column\": \"TrafficType\",\n      \"properties\": {\n        \"dtype\": \"number\",\n        \"std\": 4,\n        \"min\": 1,\n        \"max\": 20,\n        \"num_unique_values\": 20,\n        \"samples\": [\n          1,\n          16,\n          18\n        ],\n        \"semantic_type\": \"\",\n        \"description\": \"\"\n      }\n    },\n    {\n      \"column\": \"VisitorType\",\n      \"properties\": {\n        \"dtype\": \"category\",\n        \"num_unique_values\": 3,\n        \"samples\": [\n          \"Returning_Visitor\",\n          \"New_Visitor\",\n          \"Other\"\n        ],\n        \"semantic_type\": \"\",\n        \"description\": \"\"\n      }\n    },\n    {\n      \"column\": \"Weekend\",\n      \"properties\": {\n        \"dtype\": \"boolean\",\n        \"num_unique_values\": 2,\n        \"samples\": [\n          true,\n          false\n        ],\n        \"semantic_type\": \"\",\n        \"description\": \"\"\n      }\n    },\n    {\n      \"column\": \"Revenue\",\n      \"properties\": {\n        \"dtype\": \"boolean\",\n        \"num_unique_values\": 2,\n        \"samples\": [\n          true,\n          false\n        ],\n        \"semantic_type\": \"\",\n        \"description\": \"\"\n      }\n    }\n  ]\n}"
            }
          },
          "metadata": {},
          "execution_count": 3
        }
      ]
    },
    {
      "cell_type": "code",
      "source": [
        "# Data cleansing\n",
        "shoppers_data = shoppers_data.drop(['Month'], axis=1)\n",
        "shoppers_data['VisitorType'] = shoppers_data['VisitorType'].astype('category').cat.codes\n",
        "\n",
        "print(shoppers_data['Revenue'].value_counts())\n",
        "print(shoppers_data.info())"
      ],
      "metadata": {
        "colab": {
          "base_uri": "https://localhost:8080/"
        },
        "id": "Zq-n0g3ygmoX",
        "outputId": "9e00ffdb-cd8e-4729-9df0-82e2525cfd74"
      },
      "execution_count": null,
      "outputs": [
        {
          "output_type": "stream",
          "name": "stdout",
          "text": [
            "Revenue\n",
            "False    10422\n",
            "True      1908\n",
            "Name: count, dtype: int64\n",
            "<class 'pandas.core.frame.DataFrame'>\n",
            "RangeIndex: 12330 entries, 0 to 12329\n",
            "Data columns (total 17 columns):\n",
            " #   Column                   Non-Null Count  Dtype  \n",
            "---  ------                   --------------  -----  \n",
            " 0   Administrative           12330 non-null  int64  \n",
            " 1   Administrative_Duration  12330 non-null  float64\n",
            " 2   Informational            12330 non-null  int64  \n",
            " 3   Informational_Duration   12330 non-null  float64\n",
            " 4   ProductRelated           12330 non-null  int64  \n",
            " 5   ProductRelated_Duration  12330 non-null  float64\n",
            " 6   BounceRates              12330 non-null  float64\n",
            " 7   ExitRates                12330 non-null  float64\n",
            " 8   PageValues               12330 non-null  float64\n",
            " 9   SpecialDay               12330 non-null  float64\n",
            " 10  OperatingSystems         12330 non-null  int64  \n",
            " 11  Browser                  12330 non-null  int64  \n",
            " 12  Region                   12330 non-null  int64  \n",
            " 13  TrafficType              12330 non-null  int64  \n",
            " 14  VisitorType              12330 non-null  int8   \n",
            " 15  Weekend                  12330 non-null  bool   \n",
            " 16  Revenue                  12330 non-null  bool   \n",
            "dtypes: bool(2), float64(7), int64(7), int8(1)\n",
            "memory usage: 1.4 MB\n",
            "None\n"
          ]
        }
      ]
    },
    {
      "cell_type": "code",
      "source": [
        "# Train Test dataset\n",
        "X = shoppers_data.drop(columns = \"Revenue\")\n",
        "y = shoppers_data[\"Revenue\"]\n",
        "\n",
        "train_X, valid_X, train_y, valid_y = train_test_split(X, y,\n",
        "                                                      test_size = 0.2,\n",
        "                                                      random_state = 0)\n",
        "\n",
        "# Oversampled dataset\n",
        "overs = SMOTE()\n",
        "X_train_OS, y_train_OS = overs.fit_resample(train_X, train_y)\n",
        "\n",
        "# Undersampled dataset\n",
        "unders = RandomUnderSampler()\n",
        "X_train_US, y_train_US = unders.fit_resample(train_X, train_y)"
      ],
      "metadata": {
        "id": "kPh2NiqJgnhX"
      },
      "execution_count": null,
      "outputs": []
    },
    {
      "cell_type": "code",
      "source": [
        "# Logistic Regression model on original dataset\n",
        "\n",
        "# Standardize features to equalize the impact of features & improve convergence\n",
        "scaler = StandardScaler()\n",
        "X_train_scaled = scaler.fit_transform(train_X)\n",
        "X_test_scaled = scaler.transform(valid_X)\n",
        "\n",
        "# Using liblinear solver because it is suitable for small to medium datasets\n",
        "# And it performs well for dataset having many features\n",
        "# And suitable for binary classification\n",
        "lg = LogisticRegression(solver='liblinear', max_iter=100, penalty='l2', C=1e42)\n",
        "lg.fit(X_train_scaled, train_y)\n",
        "\n",
        "lg_pred = lg.predict(X_test_scaled)\n",
        "\n",
        "lg_pred_df = pd.DataFrame({\"Actual\": valid_y, \"Predicted\": lg_pred})\n",
        "print(lg_pred_df.head(5))\n",
        "print()\n",
        "print(classification_report(valid_y, lg_pred))"
      ],
      "metadata": {
        "colab": {
          "base_uri": "https://localhost:8080/"
        },
        "id": "ew8ph5rdgriG",
        "outputId": "480a234d-8aaf-4658-eecf-06c2b1ff042a"
      },
      "execution_count": null,
      "outputs": [
        {
          "output_type": "stream",
          "name": "stdout",
          "text": [
            "       Actual  Predicted\n",
            "12245   False      False\n",
            "9704    False      False\n",
            "9177    False      False\n",
            "8848    False      False\n",
            "2768    False      False\n",
            "\n",
            "              precision    recall  f1-score   support\n",
            "\n",
            "       False       0.88      0.98      0.93      2044\n",
            "        True       0.76      0.37      0.50       422\n",
            "\n",
            "    accuracy                           0.87      2466\n",
            "   macro avg       0.82      0.67      0.71      2466\n",
            "weighted avg       0.86      0.87      0.85      2466\n",
            "\n"
          ]
        }
      ]
    },
    {
      "cell_type": "code",
      "source": [
        "# Logistic Regression model on oversampled dataset\n",
        "\n",
        "# Standardize the features\n",
        "scaler = StandardScaler()\n",
        "X_train_scaled = scaler.fit_transform(X_train_OS)\n",
        "X_test_scaled = scaler.transform(valid_X)\n",
        "\n",
        "lg = LogisticRegression(solver='liblinear', max_iter=100, penalty='l2', C=1e42)\n",
        "lg.fit(X_train_scaled, y_train_OS)\n",
        "\n",
        "lg_pred_OS = lg.predict(X_test_scaled)\n",
        "\n",
        "lg_pred_OS_df = pd.DataFrame({\"Actual\": valid_y, \"Predicted\": lg_pred_OS})\n",
        "print(lg_pred_OS_df.head(5))\n",
        "print()\n",
        "print(classification_report(valid_y, lg_pred_OS))"
      ],
      "metadata": {
        "colab": {
          "base_uri": "https://localhost:8080/"
        },
        "id": "HJv3LS3dgsVA",
        "outputId": "ea16533c-8d21-45d6-d19a-a58a218a042f"
      },
      "execution_count": null,
      "outputs": [
        {
          "output_type": "stream",
          "name": "stdout",
          "text": [
            "       Actual  Predicted\n",
            "12245   False      False\n",
            "9704    False      False\n",
            "9177    False      False\n",
            "8848    False      False\n",
            "2768    False      False\n",
            "\n",
            "              precision    recall  f1-score   support\n",
            "\n",
            "       False       0.93      0.89      0.91      2044\n",
            "        True       0.56      0.68      0.61       422\n",
            "\n",
            "    accuracy                           0.85      2466\n",
            "   macro avg       0.74      0.78      0.76      2466\n",
            "weighted avg       0.87      0.85      0.86      2466\n",
            "\n"
          ]
        }
      ]
    },
    {
      "cell_type": "code",
      "source": [
        "# Logistic Regression model on undersampled dataset\n",
        "\n",
        "# Standardize the features\n",
        "scaler = StandardScaler()\n",
        "X_train_scaled = scaler.fit_transform(X_train_US)\n",
        "X_test_scaled = scaler.transform(valid_X)\n",
        "\n",
        "lg = LogisticRegression(solver='liblinear', max_iter=100, penalty='l2', C=1e42)\n",
        "lg.fit(X_train_scaled, y_train_US)\n",
        "\n",
        "lg_pred_US = lg.predict(X_test_scaled)\n",
        "\n",
        "lg_pred_US_df = pd.DataFrame({\"Actual\": valid_y, \"Predicted\": lg_pred_US})\n",
        "print(lg_pred_US_df.head(5))\n",
        "print()\n",
        "print(classification_report(valid_y, lg_pred_US))"
      ],
      "metadata": {
        "colab": {
          "base_uri": "https://localhost:8080/"
        },
        "id": "cEKpx4DZgu9n",
        "outputId": "3b4c0652-9a0f-40c9-95e0-c9eed331456c"
      },
      "execution_count": null,
      "outputs": [
        {
          "output_type": "stream",
          "name": "stdout",
          "text": [
            "       Actual  Predicted\n",
            "12245   False      False\n",
            "9704    False       True\n",
            "9177    False      False\n",
            "8848    False      False\n",
            "2768    False      False\n",
            "\n",
            "              precision    recall  f1-score   support\n",
            "\n",
            "       False       0.94      0.90      0.92      2044\n",
            "        True       0.59      0.71      0.64       422\n",
            "\n",
            "    accuracy                           0.86      2466\n",
            "   macro avg       0.76      0.80      0.78      2466\n",
            "weighted avg       0.88      0.86      0.87      2466\n",
            "\n"
          ]
        }
      ]
    },
    {
      "cell_type": "code",
      "source": [
        "print(\"Confusion matrix heatmap for Logistic regression on original, oversampled and undersampled dataset comparison\")\n",
        "from sklearn.metrics import confusion_matrix\n",
        "import seaborn as sns\n",
        "import matplotlib.pyplot as plt\n",
        "\n",
        "# Compute confusion matrix for each model\n",
        "conf_matrices = [confusion_matrix(valid_y, predictions) for predictions in [lg_pred, lg_pred_OS, lg_pred_US]]\n",
        "\n",
        "# Plot confusion matrix heatmap\n",
        "plt.figure(figsize=(8, 4))\n",
        "for i, conf_matrix in enumerate(conf_matrices, start=1):\n",
        "    plt.subplot(1, 3, i)\n",
        "    sns.heatmap(conf_matrix, annot=True, cmap='Blues', fmt='g')\n",
        "    plt.xlabel('Predicted Label')\n",
        "    plt.ylabel('True Label')\n",
        "    plt.title(f'Confusion Matrix (Model {i})')\n",
        "plt.tight_layout()\n",
        "plt.show()"
      ],
      "metadata": {
        "colab": {
          "base_uri": "https://localhost:8080/",
          "height": 425
        },
        "id": "37j8RwG1gzXi",
        "outputId": "f44e7e9f-98fb-4441-9ade-771265144704"
      },
      "execution_count": null,
      "outputs": [
        {
          "output_type": "stream",
          "name": "stdout",
          "text": [
            "Confusion matrix heatmap for Logistic regression on original, oversampled and undersampled dataset comparison\n"
          ]
        },
        {
          "output_type": "display_data",
          "data": {
            "text/plain": [
              "<Figure size 800x400 with 6 Axes>"
            ],
            "image/png": "[encoded data removed]"
          },
          "metadata": {}
        }
      ]
    },
    {
      "cell_type": "code",
      "source": [
        "# Naive Bayes on original dataset\n",
        "\n",
        "nb = GaussianNB()\n",
        "nb.fit(train_X, train_y)\n",
        "\n",
        "nb_pred = nb.predict(valid_X)\n",
        "\n",
        "nb_pred_df = pd.DataFrame({\"Actual\": valid_y, \"Predicted\": nb_pred})\n",
        "print(nb_pred_df.head(5))\n",
        "print()\n",
        "print(classification_report(valid_y, nb_pred))"
      ],
      "metadata": {
        "colab": {
          "base_uri": "https://localhost:8080/"
        },
        "id": "9beMca4fg2gI",
        "outputId": "d4a6100a-7bf5-4b2d-f84f-3d9f76eb8b2a"
      },
      "execution_count": null,
      "outputs": [
        {
          "output_type": "stream",
          "name": "stdout",
          "text": [
            "       Actual  Predicted\n",
            "12245   False      False\n",
            "9704    False       True\n",
            "9177    False      False\n",
            "8848    False      False\n",
            "2768    False      False\n",
            "\n",
            "              precision    recall  f1-score   support\n",
            "\n",
            "       False       0.90      0.91      0.90      2044\n",
            "        True       0.53      0.52      0.53       422\n",
            "\n",
            "    accuracy                           0.84      2466\n",
            "   macro avg       0.72      0.71      0.71      2466\n",
            "weighted avg       0.84      0.84      0.84      2466\n",
            "\n"
          ]
        }
      ]
    },
    {
      "cell_type": "code",
      "source": [
        "# Naive Bayes on oversampled dataset\n",
        "\n",
        "nb_OS = GaussianNB()\n",
        "nb_OS.fit(X_train_OS, y_train_OS)\n",
        "\n",
        "nb_OS_pred = nb_OS.predict(valid_X)\n",
        "\n",
        "nb_OS_pred_df = pd.DataFrame({\"Actual\": valid_y, \"Predicted\": nb_OS_pred})\n",
        "print(nb_OS_pred_df.head(5))\n",
        "print()\n",
        "print(classification_report(valid_y, nb_OS_pred))"
      ],
      "metadata": {
        "colab": {
          "base_uri": "https://localhost:8080/"
        },
        "id": "xuBHQFE8g3Ra",
        "outputId": "235931de-0031-4ee3-b06e-d528aca4e4be"
      },
      "execution_count": null,
      "outputs": [
        {
          "output_type": "stream",
          "name": "stdout",
          "text": [
            "       Actual  Predicted\n",
            "12245   False      False\n",
            "9704    False       True\n",
            "9177    False      False\n",
            "8848    False      False\n",
            "2768    False      False\n",
            "\n",
            "              precision    recall  f1-score   support\n",
            "\n",
            "       False       0.92      0.79      0.85      2044\n",
            "        True       0.40      0.68      0.50       422\n",
            "\n",
            "    accuracy                           0.77      2466\n",
            "   macro avg       0.66      0.73      0.67      2466\n",
            "weighted avg       0.83      0.77      0.79      2466\n",
            "\n"
          ]
        }
      ]
    },
    {
      "cell_type": "code",
      "source": [
        "# Naive Bayes on undersampled dataset\n",
        "\n",
        "nb_US = GaussianNB()\n",
        "nb_US.fit(X_train_US, y_train_US)\n",
        "\n",
        "nb_US_pred = nb_US.predict(valid_X)\n",
        "\n",
        "nb_US_pred_df = pd.DataFrame({\"Actual\": valid_y, \"Predicted\": nb_US_pred})\n",
        "print(nb_US_pred_df.head(5))\n",
        "print()\n",
        "print(classification_report(valid_y, nb_US_pred))"
      ],
      "metadata": {
        "colab": {
          "base_uri": "https://localhost:8080/"
        },
        "id": "6SQKfx4-g8Gi",
        "outputId": "25bb837e-5aef-429c-d568-f8068d22a2ac"
      },
      "execution_count": null,
      "outputs": [
        {
          "output_type": "stream",
          "name": "stdout",
          "text": [
            "       Actual  Predicted\n",
            "12245   False      False\n",
            "9704    False       True\n",
            "9177    False      False\n",
            "8848    False      False\n",
            "2768    False      False\n",
            "\n",
            "              precision    recall  f1-score   support\n",
            "\n",
            "       False       0.91      0.85      0.88      2044\n",
            "        True       0.45      0.58      0.51       422\n",
            "\n",
            "    accuracy                           0.81      2466\n",
            "   macro avg       0.68      0.72      0.69      2466\n",
            "weighted avg       0.83      0.81      0.82      2466\n",
            "\n"
          ]
        }
      ]
    },
    {
      "cell_type": "code",
      "source": [
        "print(\"Confusion matrix heatmap for Naive Bayes on original, oversampled and undersampled dataset comparison\")\n",
        "\n",
        "# Compute confusion matrix for each model\n",
        "conf_matrices = [confusion_matrix(valid_y, predictions) for predictions in [nb_pred, nb_OS_pred, nb_US_pred]]\n",
        "\n",
        "# Plot confusion matrix heatmap\n",
        "plt.figure(figsize=(8, 4))\n",
        "for i, conf_matrix in enumerate(conf_matrices, start=1):\n",
        "    plt.subplot(1, 3, i)\n",
        "    sns.heatmap(conf_matrix, annot=True, cmap='Blues', fmt='g')\n",
        "    plt.xlabel('Predicted Label')\n",
        "    plt.ylabel('True Label')\n",
        "    plt.title(f'Confusion Matrix (Model {i})')\n",
        "plt.tight_layout()\n",
        "plt.show()"
      ],
      "metadata": {
        "colab": {
          "base_uri": "https://localhost:8080/",
          "height": 425
        },
        "id": "FYGVMeCog80a",
        "outputId": "fb45c5fe-8c2d-48aa-8aff-e28b365e1e20"
      },
      "execution_count": null,
      "outputs": [
        {
          "output_type": "stream",
          "name": "stdout",
          "text": [
            "Confusion matrix heatmap for Naive Bayes on original, oversampled and undersampled dataset comparison\n"
          ]
        },
        {
          "output_type": "display_data",
          "data": {
            "text/plain": [
              "<Figure size 800x400 with 6 Axes>"
            ],
            "image/png": "[encoded data removed]"
          },
          "metadata": {}
        }
      ]
    },
    {
      "cell_type": "code",
      "source": [
        "# KNN on original dataset\n",
        "scaler = StandardScaler()\n",
        "X_train_scaled = scaler.fit_transform(train_X)\n",
        "X_test_scaled = scaler.transform(valid_X)\n",
        "\n",
        "knn = KNeighborsClassifier(n_neighbors = 5)\n",
        "knn.fit(X_train_scaled, train_y)\n",
        "\n",
        "knn_pred = knn.predict(X_test_scaled)\n",
        "\n",
        "knn_pred_df = pd.DataFrame({\"Actual\": valid_y, \"Predict\": knn_pred})\n",
        "\n",
        "print(knn_pred_df.head(5))\n",
        "print()\n",
        "print(classification_report(valid_y, knn_pred))"
      ],
      "metadata": {
        "colab": {
          "base_uri": "https://localhost:8080/"
        },
        "id": "Mc2VttWXhAzJ",
        "outputId": "393ede94-30fc-4a9e-b57e-71a3654ee874"
      },
      "execution_count": null,
      "outputs": [
        {
          "output_type": "stream",
          "name": "stdout",
          "text": [
            "       Actual  Predict\n",
            "12245   False    False\n",
            "9704    False    False\n",
            "9177    False    False\n",
            "8848    False    False\n",
            "2768    False    False\n",
            "\n",
            "              precision    recall  f1-score   support\n",
            "\n",
            "       False       0.89      0.97      0.92      2044\n",
            "        True       0.71      0.40      0.51       422\n",
            "\n",
            "    accuracy                           0.87      2466\n",
            "   macro avg       0.80      0.68      0.72      2466\n",
            "weighted avg       0.86      0.87      0.85      2466\n",
            "\n"
          ]
        }
      ]
    },
    {
      "cell_type": "code",
      "source": [
        "# KNN on oversampled dataset\n",
        "scaler = StandardScaler()\n",
        "X_train_scaled = scaler.fit_transform(X_train_OS)\n",
        "X_test_scaled = scaler.transform(valid_X)\n",
        "\n",
        "knn.fit(X_train_scaled, y_train_OS)\n",
        "knn_OS_pred = knn.predict(X_test_scaled)\n",
        "\n",
        "knn_OS_pred_df = pd.DataFrame({\"Actual\": valid_y, \"Predict\": knn_OS_pred})\n",
        "\n",
        "print(knn_OS_pred_df.head(5))\n",
        "print()\n",
        "print(classification_report(valid_y, knn_OS_pred))"
      ],
      "metadata": {
        "colab": {
          "base_uri": "https://localhost:8080/"
        },
        "id": "uw-DxAPBhDW6",
        "outputId": "f6c24ecc-a0ec-48e5-d501-bef75713854e"
      },
      "execution_count": null,
      "outputs": [
        {
          "output_type": "stream",
          "name": "stdout",
          "text": [
            "       Actual  Predict\n",
            "12245   False    False\n",
            "9704    False     True\n",
            "9177    False    False\n",
            "8848    False    False\n",
            "2768    False    False\n",
            "\n",
            "              precision    recall  f1-score   support\n",
            "\n",
            "       False       0.91      0.85      0.88      2044\n",
            "        True       0.45      0.61      0.52       422\n",
            "\n",
            "    accuracy                           0.81      2466\n",
            "   macro avg       0.68      0.73      0.70      2466\n",
            "weighted avg       0.83      0.81      0.82      2466\n",
            "\n"
          ]
        }
      ]
    },
    {
      "cell_type": "code",
      "source": [
        "# KNN on undersampled dataset\n",
        "scaler = StandardScaler()\n",
        "X_train_scaled = scaler.fit_transform(X_train_US)\n",
        "X_test_scaled = scaler.transform(valid_X)\n",
        "\n",
        "knn.fit(X_train_scaled, y_train_US)\n",
        "knn_US_pred = knn.predict(X_test_scaled)\n",
        "\n",
        "knn_US_pred_df = pd.DataFrame({\"Actual\": valid_y, \"Predict\": knn_US_pred})\n",
        "\n",
        "print(knn_US_pred_df.head(5))\n",
        "print()\n",
        "print(classification_report(valid_y, knn_US_pred))"
      ],
      "metadata": {
        "colab": {
          "base_uri": "https://localhost:8080/"
        },
        "id": "uRaq4C3BhEQw",
        "outputId": "f20dd3c1-233b-47ed-d70b-4b53cf45fe2e"
      },
      "execution_count": null,
      "outputs": [
        {
          "output_type": "stream",
          "name": "stdout",
          "text": [
            "       Actual  Predict\n",
            "12245   False    False\n",
            "9704    False     True\n",
            "9177    False     True\n",
            "8848    False    False\n",
            "2768    False    False\n",
            "\n",
            "              precision    recall  f1-score   support\n",
            "\n",
            "       False       0.92      0.77      0.84      2044\n",
            "        True       0.38      0.68      0.49       422\n",
            "\n",
            "    accuracy                           0.75      2466\n",
            "   macro avg       0.65      0.73      0.66      2466\n",
            "weighted avg       0.83      0.75      0.78      2466\n",
            "\n"
          ]
        }
      ]
    },
    {
      "cell_type": "code",
      "source": [
        "print(\"Confusion matrix heatmap for KNN on original, oversampled and undersampled dataset comparison\")\n",
        "\n",
        "# Compute confusion matrix for each model\n",
        "conf_matrices = [confusion_matrix(valid_y, predictions) for predictions in [knn_pred, knn_OS_pred, knn_US_pred]]\n",
        "\n",
        "# Plot confusion matrix heatmap\n",
        "plt.figure(figsize=(8, 4))\n",
        "for i, conf_matrix in enumerate(conf_matrices, start=1):\n",
        "    plt.subplot(1, 3, i)\n",
        "    sns.heatmap(conf_matrix, annot=True, cmap='Blues', fmt='g')\n",
        "    plt.xlabel('Predicted Label')\n",
        "    plt.ylabel('True Label')\n",
        "    plt.title(f'Confusion Matrix (Model {i})')\n",
        "plt.tight_layout()\n",
        "plt.show()"
      ],
      "metadata": {
        "colab": {
          "base_uri": "https://localhost:8080/",
          "height": 425
        },
        "id": "5GnPUgZuhIqK",
        "outputId": "d55d7705-14d8-45e2-9f0d-f2c0364fb9e4"
      },
      "execution_count": null,
      "outputs": [
        {
          "output_type": "stream",
          "name": "stdout",
          "text": [
            "Confusion matrix heatmap for KNN on original, oversampled and undersampled dataset comparison\n"
          ]
        },
        {
          "output_type": "display_data",
          "data": {
            "text/plain": [
              "<Figure size 800x400 with 6 Axes>"
            ],
            "image/png": "[encoded data removed]"
          },
          "metadata": {}
        }
      ]
    },
    {
      "cell_type": "code",
      "source": [
        "# Fully grown categorical tree on original dataset\n",
        "\n",
        "DT = DecisionTreeClassifier()\n",
        "DT.fit(train_X, train_y)\n",
        "\n",
        "dt_pred = DT.predict(valid_X)\n",
        "\n",
        "dt_pred_df = pd.DataFrame({\"Actual\": valid_y, \"Predicted\": dt_pred})\n",
        "print(dt_pred_df.head(5))\n",
        "print()\n",
        "print(classification_report(valid_y, dt_pred))"
      ],
      "metadata": {
        "colab": {
          "base_uri": "https://localhost:8080/"
        },
        "id": "3dsjYGBQhLJk",
        "outputId": "b507eb19-cad6-4580-9d1a-c17bef44cbab"
      },
      "execution_count": null,
      "outputs": [
        {
          "output_type": "stream",
          "name": "stdout",
          "text": [
            "       Actual  Predicted\n",
            "12245   False      False\n",
            "9704    False      False\n",
            "9177    False      False\n",
            "8848    False      False\n",
            "2768    False      False\n",
            "\n",
            "              precision    recall  f1-score   support\n",
            "\n",
            "       False       0.91      0.91      0.91      2044\n",
            "        True       0.56      0.56      0.56       422\n",
            "\n",
            "    accuracy                           0.85      2466\n",
            "   macro avg       0.73      0.73      0.73      2466\n",
            "weighted avg       0.85      0.85      0.85      2466\n",
            "\n"
          ]
        }
      ]
    },
    {
      "cell_type": "code",
      "source": [
        "# Fully grown categorical tree on an oversampled dataset\n",
        "DT.fit(X_train_OS, y_train_OS)\n",
        "\n",
        "dt_OS_pred = DT.predict(valid_X)\n",
        "\n",
        "dt_OS_pred_df = pd.DataFrame({\"Actual\": valid_y, \"Predicted\": dt_OS_pred})\n",
        "print(dt_OS_pred_df.head(5))\n",
        "print()\n",
        "print(classification_report(valid_y, dt_OS_pred))"
      ],
      "metadata": {
        "colab": {
          "base_uri": "https://localhost:8080/"
        },
        "id": "wo7tfjYqhMDa",
        "outputId": "cb5ef372-e35d-498a-faa6-79e25f35bc84"
      },
      "execution_count": null,
      "outputs": [
        {
          "output_type": "stream",
          "name": "stdout",
          "text": [
            "       Actual  Predicted\n",
            "12245   False       True\n",
            "9704    False      False\n",
            "9177    False      False\n",
            "8848    False      False\n",
            "2768    False      False\n",
            "\n",
            "              precision    recall  f1-score   support\n",
            "\n",
            "       False       0.92      0.89      0.91      2044\n",
            "        True       0.54      0.64      0.59       422\n",
            "\n",
            "    accuracy                           0.85      2466\n",
            "   macro avg       0.73      0.76      0.75      2466\n",
            "weighted avg       0.86      0.85      0.85      2466\n",
            "\n"
          ]
        }
      ]
    },
    {
      "cell_type": "code",
      "source": [
        "# Fully grown categorical tree on undersampled dataset\n",
        "DT.fit(X_train_US, y_train_US)\n",
        "\n",
        "dt_US_pred = DT.predict(valid_X)\n",
        "\n",
        "dt_US_pred_df = pd.DataFrame({\"Actual\": valid_y, \"Predicted\": dt_US_pred})\n",
        "print(dt_US_pred_df.head(5))\n",
        "print()\n",
        "print(classification_report(valid_y, dt_US_pred))"
      ],
      "metadata": {
        "colab": {
          "base_uri": "https://localhost:8080/"
        },
        "id": "DHPSsXjuhRJZ",
        "outputId": "784143c7-3d6c-4ef5-ea1d-daa5dfac0cd8"
      },
      "execution_count": null,
      "outputs": [
        {
          "output_type": "stream",
          "name": "stdout",
          "text": [
            "       Actual  Predicted\n",
            "12245   False       True\n",
            "9704    False       True\n",
            "9177    False      False\n",
            "8848    False       True\n",
            "2768    False      False\n",
            "\n",
            "              precision    recall  f1-score   support\n",
            "\n",
            "       False       0.93      0.76      0.84      2044\n",
            "        True       0.39      0.74      0.51       422\n",
            "\n",
            "    accuracy                           0.76      2466\n",
            "   macro avg       0.66      0.75      0.67      2466\n",
            "weighted avg       0.84      0.76      0.78      2466\n",
            "\n"
          ]
        }
      ]
    },
    {
      "cell_type": "code",
      "source": [
        "# Get best parameters for Pruned categorical tree on original dataset\n",
        "params = {'max_depth': [5, 10, 15, 20],\n",
        "          'min_samples_split': [20, 40, 60, 80, 100],\n",
        "          'min_impurity_decrease': [0, 0.0005, 0.001, 0.005, 0.01]}\n",
        "\n",
        "gs = GridSearchCV(DecisionTreeClassifier(random_state = 1),\n",
        "                  params, cv = 5)\n",
        "\n",
        "gs.fit(train_X, train_y)\n",
        "print(f\"Score: {gs.best_score_}\")\n",
        "print(f'Parameters: {gs.best_params_}')"
      ],
      "metadata": {
        "colab": {
          "base_uri": "https://localhost:8080/"
        },
        "id": "WlpxwmRThUM7",
        "outputId": "16852827-b5e7-400e-c73d-86a69a20177f"
      },
      "execution_count": null,
      "outputs": [
        {
          "output_type": "stream",
          "name": "stdout",
          "text": [
            "Score: 0.899330978349709\n",
            "Parameters: {'max_depth': 10, 'min_impurity_decrease': 0.0005, 'min_samples_split': 20}\n"
          ]
        }
      ]
    },
    {
      "cell_type": "code",
      "source": [
        "# Pruned categorical tree on original dataset\n",
        "pruned_dt = DecisionTreeClassifier(max_depth=10, min_impurity_decrease=0.0005, min_samples_split=20)\n",
        "pruned_dt.fit(train_X, train_y)\n",
        "\n",
        "pruned_dt_pred = pruned_dt.predict(valid_X)\n",
        "\n",
        "pruned_dt_pred_df = pd.DataFrame({\"Actual\": valid_y, \"Predicted\": pruned_dt_pred})\n",
        "print(pruned_dt_pred_df.head(5))\n",
        "print()\n",
        "print(classification_report(valid_y, pruned_dt_pred))"
      ],
      "metadata": {
        "colab": {
          "base_uri": "https://localhost:8080/"
        },
        "id": "EaDmamm4hU-g",
        "outputId": "065e2f00-92a6-4a4d-d1d2-0aed0d6d3f4c"
      },
      "execution_count": null,
      "outputs": [
        {
          "output_type": "stream",
          "name": "stdout",
          "text": [
            "       Actual  Predicted\n",
            "12245   False      False\n",
            "9704    False      False\n",
            "9177    False      False\n",
            "8848    False      False\n",
            "2768    False      False\n",
            "\n",
            "              precision    recall  f1-score   support\n",
            "\n",
            "       False       0.91      0.97      0.94      2044\n",
            "        True       0.76      0.53      0.62       422\n",
            "\n",
            "    accuracy                           0.89      2466\n",
            "   macro avg       0.83      0.75      0.78      2466\n",
            "weighted avg       0.88      0.89      0.88      2466\n",
            "\n"
          ]
        }
      ]
    },
    {
      "cell_type": "code",
      "source": [
        "# Get best parameters for Pruned categorical tree on oversampled dataset\n",
        "params = {'max_depth': [5, 10, 15, 20],\n",
        "          'min_samples_split': [20, 40, 60, 80, 100],\n",
        "          'min_impurity_decrease': [0, 0.0005, 0.001, 0.005, 0.01]}\n",
        "\n",
        "gs = GridSearchCV(DecisionTreeClassifier(random_state = 1),\n",
        "                  params, cv = 5)\n",
        "\n",
        "gs.fit(X_train_OS, y_train_OS)\n",
        "print(f\"Score: {gs.best_score_}\")\n",
        "print(f'Parameters: {gs.best_params_}')"
      ],
      "metadata": {
        "colab": {
          "base_uri": "https://localhost:8080/"
        },
        "id": "TSm_CzEnhWiR",
        "outputId": "5168679f-2afc-49b8-86d7-d136b59acc87"
      },
      "execution_count": null,
      "outputs": [
        {
          "output_type": "stream",
          "name": "stdout",
          "text": [
            "Score: 0.9026058370350745\n",
            "Parameters: {'max_depth': 10, 'min_impurity_decrease': 0.0005, 'min_samples_split': 20}\n"
          ]
        }
      ]
    },
    {
      "cell_type": "code",
      "source": [
        "# Pruned categorical tree on oversampled dataset\n",
        "pruned_OS_dt = DecisionTreeClassifier(max_depth=10, min_impurity_decrease=0.0001, min_samples_split=20)\n",
        "pruned_OS_dt.fit(X_train_OS, y_train_OS)\n",
        "\n",
        "pruned_OS_dt_pred = pruned_OS_dt.predict(valid_X)\n",
        "\n",
        "pruned_OS_dt_pred_df = pd.DataFrame({\"Actual\": valid_y, \"Predicted\": pruned_OS_dt_pred})\n",
        "print(pruned_OS_dt_pred_df.head(5))\n",
        "print()\n",
        "print(classification_report(valid_y, pruned_OS_dt_pred))"
      ],
      "metadata": {
        "colab": {
          "base_uri": "https://localhost:8080/"
        },
        "id": "Kch3xyIBhZFS",
        "outputId": "9125d328-b702-4c00-a906-da3319ad539a"
      },
      "execution_count": null,
      "outputs": [
        {
          "output_type": "stream",
          "name": "stdout",
          "text": [
            "       Actual  Predicted\n",
            "12245   False      False\n",
            "9704    False      False\n",
            "9177    False      False\n",
            "8848    False      False\n",
            "2768    False      False\n",
            "\n",
            "              precision    recall  f1-score   support\n",
            "\n",
            "       False       0.94      0.89      0.92      2044\n",
            "        True       0.59      0.73      0.65       422\n",
            "\n",
            "    accuracy                           0.87      2466\n",
            "   macro avg       0.76      0.81      0.78      2466\n",
            "weighted avg       0.88      0.87      0.87      2466\n",
            "\n"
          ]
        }
      ]
    },
    {
      "cell_type": "code",
      "source": [
        "# Get best parameters for Pruned categorical tree on undersampled dataset\n",
        "params = {'max_depth': [5, 10, 15, 20],\n",
        "          'min_samples_split': [20, 40, 60, 80, 100],\n",
        "          'min_impurity_decrease': [0, 0.0005, 0.001, 0.005, 0.01]}\n",
        "\n",
        "gs = GridSearchCV(DecisionTreeClassifier(random_state = 1),\n",
        "                  params, cv = 5)\n",
        "\n",
        "gs.fit(X_train_US, y_train_US)\n",
        "print(f\"Score: {gs.best_score_}\")\n",
        "print(f'Parameters: {gs.best_params_}')"
      ],
      "metadata": {
        "colab": {
          "base_uri": "https://localhost:8080/"
        },
        "id": "fN2PpZKGhcoI",
        "outputId": "0649346e-de57-4622-897b-d39799c3185e"
      },
      "execution_count": null,
      "outputs": [
        {
          "output_type": "stream",
          "name": "stdout",
          "text": [
            "Score: 0.8485844438785616\n",
            "Parameters: {'max_depth': 5, 'min_impurity_decrease': 0.005, 'min_samples_split': 20}\n"
          ]
        }
      ]
    },
    {
      "cell_type": "code",
      "source": [
        "# Pruned categorical tree on undersampled dataset\n",
        "pruned_US_dt = DecisionTreeClassifier(max_depth=5, min_impurity_decrease=0.005, min_samples_split=20)\n",
        "pruned_US_dt.fit(X_train_US, y_train_US)\n",
        "\n",
        "pruned_US_dt_pred = pruned_US_dt.predict(valid_X)\n",
        "\n",
        "pruned_US_dt_pred_df = pd.DataFrame({\"Actual\": valid_y, \"Predicted\": pruned_US_dt_pred})\n",
        "print(pruned_US_dt_pred_df.head(5))\n",
        "print()\n",
        "print(classification_report(valid_y, pruned_US_dt_pred))"
      ],
      "metadata": {
        "colab": {
          "base_uri": "https://localhost:8080/"
        },
        "id": "7ji23tZfhdXZ",
        "outputId": "283bd1ec-6161-4235-de2c-93cbb7cbddc8"
      },
      "execution_count": null,
      "outputs": [
        {
          "output_type": "stream",
          "name": "stdout",
          "text": [
            "       Actual  Predicted\n",
            "12245   False      False\n",
            "9704    False      False\n",
            "9177    False      False\n",
            "8848    False      False\n",
            "2768    False      False\n",
            "\n",
            "              precision    recall  f1-score   support\n",
            "\n",
            "       False       0.95      0.89      0.92      2044\n",
            "        True       0.59      0.79      0.68       422\n",
            "\n",
            "    accuracy                           0.87      2466\n",
            "   macro avg       0.77      0.84      0.80      2466\n",
            "weighted avg       0.89      0.87      0.88      2466\n",
            "\n"
          ]
        }
      ]
    },
    {
      "cell_type": "code",
      "source": [
        "# Gradient Boosting Classifier on original dataset\n",
        "\n",
        "GB = GradientBoostingClassifier(n_estimators=100, learning_rate=0.1, random_state=42)\n",
        "GB.fit(train_X, train_y)\n",
        "\n",
        "gb_pred = GB.predict(valid_X)\n",
        "\n",
        "gb_pred_df = pd.DataFrame({\"Actual\": valid_y, \"Predicted\": gb_pred})\n",
        "print(gb_pred_df.head(5))\n",
        "print()\n",
        "print(classification_report(valid_y, gb_pred))"
      ],
      "metadata": {
        "colab": {
          "base_uri": "https://localhost:8080/"
        },
        "id": "t3xqhxIrhhix",
        "outputId": "b452305a-fde4-4777-f01a-1296ff29fbd1"
      },
      "execution_count": null,
      "outputs": [
        {
          "output_type": "stream",
          "name": "stdout",
          "text": [
            "       Actual  Predicted\n",
            "12245   False      False\n",
            "9704    False      False\n",
            "9177    False      False\n",
            "8848    False      False\n",
            "2768    False      False\n",
            "\n",
            "              precision    recall  f1-score   support\n",
            "\n",
            "       False       0.91      0.96      0.93      2044\n",
            "        True       0.71      0.52      0.60       422\n",
            "\n",
            "    accuracy                           0.88      2466\n",
            "   macro avg       0.81      0.74      0.77      2466\n",
            "weighted avg       0.87      0.88      0.87      2466\n",
            "\n"
          ]
        }
      ]
    },
    {
      "cell_type": "code",
      "source": [
        "# Gradient Boosting Classifier on oversampled dataset\n",
        "\n",
        "GB.fit(X_train_OS, y_train_OS)\n",
        "\n",
        "gb_OS_pred = GB.predict(valid_X)\n",
        "\n",
        "gb_OS_pred_df = pd.DataFrame({\"Actual\": valid_y, \"Predicted\": gb_OS_pred})\n",
        "print(gb_OS_pred_df.head(5))\n",
        "print()\n",
        "print(classification_report(valid_y, gb_OS_pred))"
      ],
      "metadata": {
        "colab": {
          "base_uri": "https://localhost:8080/"
        },
        "id": "t3ZOMb-Khj3I",
        "outputId": "a93b47ae-0e0e-4e60-c7dc-f86c93ff7aba"
      },
      "execution_count": null,
      "outputs": [
        {
          "output_type": "stream",
          "name": "stdout",
          "text": [
            "       Actual  Predicted\n",
            "12245   False      False\n",
            "9704    False      False\n",
            "9177    False      False\n",
            "8848    False      False\n",
            "2768    False      False\n",
            "\n",
            "              precision    recall  f1-score   support\n",
            "\n",
            "       False       0.94      0.90      0.92      2044\n",
            "        True       0.60      0.75      0.67       422\n",
            "\n",
            "    accuracy                           0.87      2466\n",
            "   macro avg       0.77      0.82      0.79      2466\n",
            "weighted avg       0.89      0.87      0.88      2466\n",
            "\n"
          ]
        }
      ]
    },
    {
      "cell_type": "code",
      "source": [
        "# Gradient Boosting Classifier on undersampled dataset\n",
        "\n",
        "GB.fit(X_train_US, y_train_US)\n",
        "\n",
        "gb_US_pred = GB.predict(valid_X)\n",
        "\n",
        "gb_US_pred_df = pd.DataFrame({\"Actual\": valid_y, \"Predicted\": gb_US_pred})\n",
        "print(gb_US_pred_df.head(5))\n",
        "print()\n",
        "print(classification_report(valid_y, gb_US_pred))"
      ],
      "metadata": {
        "colab": {
          "base_uri": "https://localhost:8080/"
        },
        "id": "h5NvMkqihmGY",
        "outputId": "79da2fa9-7b76-45f6-d154-fa7a349b48ad"
      },
      "execution_count": null,
      "outputs": [
        {
          "output_type": "stream",
          "name": "stdout",
          "text": [
            "       Actual  Predicted\n",
            "12245   False      False\n",
            "9704    False       True\n",
            "9177    False      False\n",
            "8848    False      False\n",
            "2768    False      False\n",
            "\n",
            "              precision    recall  f1-score   support\n",
            "\n",
            "       False       0.95      0.87      0.91      2044\n",
            "        True       0.56      0.80      0.66       422\n",
            "\n",
            "    accuracy                           0.86      2466\n",
            "   macro avg       0.76      0.83      0.78      2466\n",
            "weighted avg       0.89      0.86      0.87      2466\n",
            "\n"
          ]
        }
      ]
    },
    {
      "cell_type": "code",
      "source": [
        "# ROC Curve (for binary classification)\n",
        "from sklearn.metrics import roc_curve, auc\n",
        "\n",
        "# Assuming you have already trained and tested your binary classifier and got predicted probabilities\n",
        "fpr, tpr, _ = roc_curve(valid_y, gb_US_pred)\n",
        "roc_auc = auc(fpr, tpr)\n",
        "\n",
        "plt.figure(figsize=(8, 6))\n",
        "plt.plot(fpr, tpr, color='darkorange', lw=2, label='ROC curve (area = %0.2f)' % roc_auc)\n",
        "plt.plot([0, 1], [0, 1], color='navy', lw=2, linestyle='--')\n",
        "plt.xlim([0.0, 1.0])\n",
        "plt.ylim([0.0, 1.05])\n",
        "plt.xlabel('False Positive Rate')\n",
        "plt.ylabel('True Positive Rate')\n",
        "plt.title('Receiver Operating Characteristic (ROC) Curve')\n",
        "plt.legend(loc=\"lower right\")\n",
        "plt.show()"
      ],
      "metadata": {
        "colab": {
          "base_uri": "https://localhost:8080/",
          "height": 564
        },
        "id": "elBPeG9gMvha",
        "outputId": "a79104af-b841-46c5-9c48-cc51604d1faa"
      },
      "execution_count": null,
      "outputs": [
        {
          "output_type": "display_data",
          "data": {
            "text/plain": [
              "<Figure size 800x600 with 1 Axes>"
            ],
            "image/png": "[encoded data removed]"
          },
          "metadata": {}
        }
      ]
    },
    {
      "cell_type": "code",
      "source": [
        "# Precision-Recall Curve (for binary classification)\n",
        "from sklearn.metrics import precision_recall_curve\n",
        "\n",
        "precision, recall, _ = precision_recall_curve(valid_y, gb_US_pred)\n",
        "\n",
        "plt.figure(figsize=(8, 6))\n",
        "plt.plot(recall, precision, color='blue', lw=2, label='Precision-Recall curve')\n",
        "plt.xlabel('Recall')\n",
        "plt.ylabel('Precision')\n",
        "plt.title('Precision-Recall Curve')\n",
        "plt.legend(loc=\"lower left\")\n",
        "plt.show()"
      ],
      "metadata": {
        "colab": {
          "base_uri": "https://localhost:8080/",
          "height": 564
        },
        "id": "u9Axz7swNOab",
        "outputId": "c1bd4f37-2b3d-491b-8dcf-45758cc3aa59"
      },
      "execution_count": null,
      "outputs": [
        {
          "output_type": "display_data",
          "data": {
            "text/plain": [
              "<Figure size 800x600 with 1 Axes>"
            ],
            "image/png": "[encoded data removed]"
          },
          "metadata": {}
        }
      ]
    },
    {
      "cell_type": "code",
      "source": [
        "# Recursive Feature Elimination (RFE)\n",
        "from sklearn.feature_selection import RFE\n",
        "\n",
        "rfe = RFE(GB, n_features_to_select=1)\n",
        "rfe.fit(X_train_US, y_train_US)\n",
        "feature_ranks = rfe.ranking_\n",
        "\n",
        "feature_names = X_train_US.columns\n",
        "print(\"Feature ranking:\")\n",
        "for rank, name in sorted(zip(feature_ranks, feature_names)):\n",
        "    print(f\"Rank {rank}: {name}\")"
      ],
      "metadata": {
        "colab": {
          "base_uri": "https://localhost:8080/"
        },
        "id": "IrulDfIOC714",
        "outputId": "42d3dbc4-9b43-4ea5-e120-aeabaa7b3fc0"
      },
      "execution_count": null,
      "outputs": [
        {
          "output_type": "stream",
          "name": "stdout",
          "text": [
            "Feature ranking:\n",
            "Rank 1: PageValues\n",
            "Rank 2: ProductRelated_Duration\n",
            "Rank 3: ExitRates\n",
            "Rank 4: ProductRelated\n",
            "Rank 5: Administrative_Duration\n",
            "Rank 6: TrafficType\n",
            "Rank 7: Administrative\n",
            "Rank 8: SpecialDay\n",
            "Rank 9: Informational_Duration\n",
            "Rank 10: VisitorType\n",
            "Rank 11: BounceRates\n",
            "Rank 12: Informational\n",
            "Rank 13: Browser\n",
            "Rank 14: Region\n",
            "Rank 15: OperatingSystems\n",
            "Rank 16: Weekend\n"
          ]
        }
      ]
    },
    {
      "cell_type": "code",
      "source": [
        "import seaborn as sns\n",
        "import pandas as pd\n",
        "\n",
        "# Assuming X_train_US is a DataFrame containing feature names\n",
        "feature_importance_df = pd.DataFrame({'Feature': X_train_US.columns, 'Rank': feature_ranks})\n",
        "feature_importance_df = feature_importance_df.sort_values(by='Rank')\n",
        "\n",
        "plt.figure(figsize=(10, 6))\n",
        "sns.barplot(x='Rank', y='Feature', data=feature_importance_df)\n",
        "plt.xlabel('Rank')\n",
        "plt.ylabel('Feature')\n",
        "plt.title('Feature Importance')\n",
        "plt.show()\n"
      ],
      "metadata": {
        "colab": {
          "base_uri": "https://localhost:8080/",
          "height": 564
        },
        "id": "DVtdOW03HQMj",
        "outputId": "a8fa2e57-7144-441f-90cd-bf34f27940cb"
      },
      "execution_count": null,
      "outputs": [
        {
          "output_type": "display_data",
          "data": {
            "text/plain": [
              "<Figure size 1000x600 with 1 Axes>"
            ],
            "image/png": "[encoded data removed]"
          },
          "metadata": {}
        }
      ]
    },
    {
      "cell_type": "code",
      "source": [
        "# Support Vector Machine Classifier on original dataset\n",
        "scaler = StandardScaler()\n",
        "X_train_scaled = scaler.fit_transform(train_X)\n",
        "X_test_scaled = scaler.transform(valid_X)\n",
        "\n",
        "svm = SVC(kernel='rbf', random_state=42)\n",
        "svm.fit(X_train_scaled, train_y)\n",
        "\n",
        "svm_pred = svm.predict(X_test_scaled)\n",
        "\n",
        "svm_pred_df = pd.DataFrame({\"Actual\": valid_y, \"Predicted\": svm_pred})\n",
        "print(svm_pred_df.head(5))\n",
        "print()\n",
        "print(classification_report(valid_y, svm_pred))"
      ],
      "metadata": {
        "colab": {
          "base_uri": "https://localhost:8080/"
        },
        "id": "Z7joeLWDhm4Y",
        "outputId": "4ca72553-930b-4af2-f03b-4b90757502af"
      },
      "execution_count": null,
      "outputs": [
        {
          "output_type": "stream",
          "name": "stdout",
          "text": [
            "       Actual  Predicted\n",
            "12245   False      False\n",
            "9704    False      False\n",
            "9177    False      False\n",
            "8848    False      False\n",
            "2768    False      False\n",
            "\n",
            "              precision    recall  f1-score   support\n",
            "\n",
            "       False       0.89      0.97      0.93      2044\n",
            "        True       0.76      0.45      0.56       422\n",
            "\n",
            "    accuracy                           0.88      2466\n",
            "   macro avg       0.83      0.71      0.75      2466\n",
            "weighted avg       0.87      0.88      0.87      2466\n",
            "\n"
          ]
        }
      ]
    },
    {
      "cell_type": "code",
      "source": [
        "# Support Vector Machine Classifier on oversampled dataset\n",
        "scaler = StandardScaler()\n",
        "X_train_scaled = scaler.fit_transform(X_train_OS)\n",
        "X_test_scaled = scaler.transform(valid_X)\n",
        "\n",
        "svm.fit(X_train_scaled, y_train_OS)\n",
        "\n",
        "svm_OS_pred = svm.predict(X_test_scaled)\n",
        "\n",
        "svm_OS_pred_df = pd.DataFrame({\"Actual\": valid_y, \"Predicted\": svm_OS_pred})\n",
        "print(svm_OS_pred_df.head(5))\n",
        "print()\n",
        "print(classification_report(valid_y, svm_OS_pred))"
      ],
      "metadata": {
        "colab": {
          "base_uri": "https://localhost:8080/"
        },
        "id": "jaSXEIv_hpS1",
        "outputId": "f422efb9-ff30-40b9-cfef-c84fd23ccd62"
      },
      "execution_count": null,
      "outputs": [
        {
          "output_type": "stream",
          "name": "stdout",
          "text": [
            "       Actual  Predicted\n",
            "12245   False      False\n",
            "9704    False      False\n",
            "9177    False      False\n",
            "8848    False      False\n",
            "2768    False      False\n",
            "\n",
            "              precision    recall  f1-score   support\n",
            "\n",
            "       False       0.93      0.91      0.92      2044\n",
            "        True       0.60      0.66      0.63       422\n",
            "\n",
            "    accuracy                           0.87      2466\n",
            "   macro avg       0.76      0.78      0.77      2466\n",
            "weighted avg       0.87      0.87      0.87      2466\n",
            "\n"
          ]
        }
      ]
    },
    {
      "cell_type": "code",
      "source": [
        "# Support Vector Machine Classifier on undersampled dataset\n",
        "scaler = StandardScaler()\n",
        "X_train_scaled = scaler.fit_transform(X_train_US)\n",
        "X_test_scaled = scaler.transform(valid_X)\n",
        "\n",
        "svm.fit(X_train_scaled, y_train_US)\n",
        "\n",
        "svm_US_pred = svm.predict(X_test_scaled)\n",
        "\n",
        "svm_US_pred_df = pd.DataFrame({\"Actual\": valid_y, \"Predicted\": svm_US_pred})\n",
        "print(svm_US_pred_df.head(5))\n",
        "print()\n",
        "print(classification_report(valid_y, svm_US_pred))"
      ],
      "metadata": {
        "colab": {
          "base_uri": "https://localhost:8080/"
        },
        "id": "rTNa4OlzhrbU",
        "outputId": "25859c06-8e3e-4b7c-fd74-090e3076b4a1"
      },
      "execution_count": null,
      "outputs": [
        {
          "output_type": "stream",
          "name": "stdout",
          "text": [
            "       Actual  Predicted\n",
            "12245   False      False\n",
            "9704    False       True\n",
            "9177    False      False\n",
            "8848    False      False\n",
            "2768    False      False\n",
            "\n",
            "              precision    recall  f1-score   support\n",
            "\n",
            "       False       0.94      0.87      0.90      2044\n",
            "        True       0.53      0.72      0.61       422\n",
            "\n",
            "    accuracy                           0.84      2466\n",
            "   macro avg       0.73      0.79      0.76      2466\n",
            "weighted avg       0.87      0.84      0.85      2466\n",
            "\n"
          ]
        }
      ]
    },
    {
      "cell_type": "code",
      "source": [
        "# Bagging classifier on original dataset\n",
        "BG = BaggingClassifier(DecisionTreeClassifier(random_state = 1),\n",
        "                       n_estimators = 100, random_state = 1)\n",
        "BG.fit(train_X, train_y)\n",
        "\n",
        "bag_pred = BG.predict(valid_X)\n",
        "print(classification_report(valid_y, bag_pred))"
      ],
      "metadata": {
        "colab": {
          "base_uri": "https://localhost:8080/"
        },
        "id": "_ae38gW_hvJe",
        "outputId": "65c252cf-6d03-4adc-f5c3-08c4749f0726"
      },
      "execution_count": null,
      "outputs": [
        {
          "output_type": "stream",
          "name": "stdout",
          "text": [
            "              precision    recall  f1-score   support\n",
            "\n",
            "       False       0.91      0.96      0.93      2044\n",
            "        True       0.72      0.55      0.62       422\n",
            "\n",
            "    accuracy                           0.89      2466\n",
            "   macro avg       0.82      0.75      0.78      2466\n",
            "weighted avg       0.88      0.89      0.88      2466\n",
            "\n"
          ]
        }
      ]
    },
    {
      "cell_type": "code",
      "source": [
        "# Bagging classifier on oversampled dataset\n",
        "BG.fit(X_train_OS, y_train_OS)\n",
        "bag_OS_pred = BG.predict(valid_X)\n",
        "print(classification_report(valid_y, bag_OS_pred))"
      ],
      "metadata": {
        "colab": {
          "base_uri": "https://localhost:8080/"
        },
        "id": "Wj8PPSdShxl_",
        "outputId": "19e7b318-aa3b-4336-c3d0-746459cafde9"
      },
      "execution_count": null,
      "outputs": [
        {
          "output_type": "stream",
          "name": "stdout",
          "text": [
            "              precision    recall  f1-score   support\n",
            "\n",
            "       False       0.94      0.91      0.92      2044\n",
            "        True       0.61      0.73      0.67       422\n",
            "\n",
            "    accuracy                           0.88      2466\n",
            "   macro avg       0.78      0.82      0.79      2466\n",
            "weighted avg       0.89      0.88      0.88      2466\n",
            "\n"
          ]
        }
      ]
    },
    {
      "cell_type": "code",
      "source": [
        "# Bagging classifier on undersampled dataset\n",
        "BG.fit(X_train_US, y_train_US)\n",
        "bag_US_pred = BG.predict(valid_X)\n",
        "print(classification_report(valid_y, bag_US_pred))"
      ],
      "metadata": {
        "colab": {
          "base_uri": "https://localhost:8080/"
        },
        "id": "9wE52WvHhz3U",
        "outputId": "dbc47f2a-965f-4a56-adad-2b2e0ab51ef3"
      },
      "execution_count": null,
      "outputs": [
        {
          "output_type": "stream",
          "name": "stdout",
          "text": [
            "              precision    recall  f1-score   support\n",
            "\n",
            "       False       0.96      0.86      0.90      2044\n",
            "        True       0.54      0.81      0.65       422\n",
            "\n",
            "    accuracy                           0.85      2466\n",
            "   macro avg       0.75      0.83      0.78      2466\n",
            "weighted avg       0.88      0.85      0.86      2466\n",
            "\n"
          ]
        }
      ]
    },
    {
      "cell_type": "code",
      "source": [
        "# Boosting classifier on original dataset\n",
        "BT = AdaBoostClassifier(DecisionTreeClassifier(random_state=1),\n",
        "                        n_estimators = 100, random_state=1)\n",
        "BT.fit(train_X,train_y)\n",
        "\n",
        "boost_pred = BT.predict(valid_X)\n",
        "print(classification_report(valid_y, boost_pred))"
      ],
      "metadata": {
        "colab": {
          "base_uri": "https://localhost:8080/"
        },
        "id": "2LvkMkRDh0mz",
        "outputId": "86755ad0-cf8a-4f21-fc08-141ce3b25e67"
      },
      "execution_count": null,
      "outputs": [
        {
          "output_type": "stream",
          "name": "stdout",
          "text": [
            "              precision    recall  f1-score   support\n",
            "\n",
            "       False       0.91      0.91      0.91      2044\n",
            "        True       0.57      0.57      0.57       422\n",
            "\n",
            "    accuracy                           0.85      2466\n",
            "   macro avg       0.74      0.74      0.74      2466\n",
            "weighted avg       0.85      0.85      0.85      2466\n",
            "\n"
          ]
        }
      ]
    },
    {
      "cell_type": "code",
      "source": [
        "# Boosting classifier on oversampled dataset\n",
        "BT.fit(X_train_OS, y_train_OS)\n",
        "boost_OS_pred = BT.predict(valid_X)\n",
        "print(classification_report(valid_y, boost_OS_pred))"
      ],
      "metadata": {
        "colab": {
          "base_uri": "https://localhost:8080/"
        },
        "id": "NubMskp6h4Ng",
        "outputId": "c5997f84-e1db-4486-b651-2ae4ab035cf2"
      },
      "execution_count": null,
      "outputs": [
        {
          "output_type": "stream",
          "name": "stdout",
          "text": [
            "              precision    recall  f1-score   support\n",
            "\n",
            "       False       0.92      0.89      0.90      2044\n",
            "        True       0.54      0.63      0.58       422\n",
            "\n",
            "    accuracy                           0.84      2466\n",
            "   macro avg       0.73      0.76      0.74      2466\n",
            "weighted avg       0.86      0.84      0.85      2466\n",
            "\n"
          ]
        }
      ]
    },
    {
      "cell_type": "code",
      "source": [
        "# Boosting classifier on undersampled dataset\n",
        "BT.fit(X_train_US, y_train_US)\n",
        "boost_US_pred = BT.predict(valid_X)\n",
        "print(classification_report(valid_y, boost_US_pred))"
      ],
      "metadata": {
        "colab": {
          "base_uri": "https://localhost:8080/"
        },
        "id": "_1yKlLvSh6Lq",
        "outputId": "295978cc-0153-4868-e7f3-df84dfa6523a"
      },
      "execution_count": null,
      "outputs": [
        {
          "output_type": "stream",
          "name": "stdout",
          "text": [
            "              precision    recall  f1-score   support\n",
            "\n",
            "       False       0.94      0.77      0.85      2044\n",
            "        True       0.40      0.75      0.53       422\n",
            "\n",
            "    accuracy                           0.77      2466\n",
            "   macro avg       0.67      0.76      0.69      2466\n",
            "weighted avg       0.85      0.77      0.79      2466\n",
            "\n"
          ]
        }
      ]
    },
    {
      "cell_type": "code",
      "source": [
        "# Random Forest classifier on original dataset\n",
        "RF = RandomForestClassifier(n_estimators = 500, random_state = 1)\n",
        "RF.fit(train_X, train_y)\n",
        "\n",
        "rf_pred = RF.predict(valid_X)\n",
        "print(classification_report(valid_y, rf_pred))"
      ],
      "metadata": {
        "colab": {
          "base_uri": "https://localhost:8080/"
        },
        "id": "pxKmj6tWh8Pj",
        "outputId": "9fd95bd5-8805-4194-ed8f-95e47c370664"
      },
      "execution_count": null,
      "outputs": [
        {
          "output_type": "stream",
          "name": "stdout",
          "text": [
            "              precision    recall  f1-score   support\n",
            "\n",
            "       False       0.91      0.96      0.94      2044\n",
            "        True       0.75      0.55      0.63       422\n",
            "\n",
            "    accuracy                           0.89      2466\n",
            "   macro avg       0.83      0.76      0.79      2466\n",
            "weighted avg       0.88      0.89      0.88      2466\n",
            "\n"
          ]
        }
      ]
    },
    {
      "cell_type": "code",
      "source": [
        "# Random Forest classifier on oversampled dataset\n",
        "RF.fit(X_train_OS, y_train_OS)\n",
        "\n",
        "rf_OS_pred = RF.predict(valid_X)\n",
        "print(classification_report(valid_y, rf_OS_pred))"
      ],
      "metadata": {
        "colab": {
          "base_uri": "https://localhost:8080/"
        },
        "id": "5KhZCw1Ph-Hr",
        "outputId": "ad37de09-5282-44bb-bd39-6d5a120ef1f3"
      },
      "execution_count": null,
      "outputs": [
        {
          "output_type": "stream",
          "name": "stdout",
          "text": [
            "              precision    recall  f1-score   support\n",
            "\n",
            "       False       0.94      0.91      0.92      2044\n",
            "        True       0.62      0.74      0.67       422\n",
            "\n",
            "    accuracy                           0.88      2466\n",
            "   macro avg       0.78      0.82      0.80      2466\n",
            "weighted avg       0.89      0.88      0.88      2466\n",
            "\n"
          ]
        }
      ]
    },
    {
      "cell_type": "code",
      "source": [
        "# Random Forest classifier on undersampled dataset\n",
        "RF.fit(X_train_US, y_train_US)\n",
        "\n",
        "rf_US_pred = RF.predict(valid_X)\n",
        "print(classification_report(valid_y, rf_US_pred))"
      ],
      "metadata": {
        "colab": {
          "base_uri": "https://localhost:8080/"
        },
        "id": "SNWig-EuiALq",
        "outputId": "fff42f22-1fa0-4c7b-b60c-ace1df5dc923"
      },
      "execution_count": null,
      "outputs": [
        {
          "output_type": "stream",
          "name": "stdout",
          "text": [
            "              precision    recall  f1-score   support\n",
            "\n",
            "       False       0.96      0.87      0.91      2044\n",
            "        True       0.56      0.82      0.66       422\n",
            "\n",
            "    accuracy                           0.86      2466\n",
            "   macro avg       0.76      0.84      0.79      2466\n",
            "weighted avg       0.89      0.86      0.87      2466\n",
            "\n"
          ]
        }
      ]
    },
    {
      "cell_type": "code",
      "source": [
        "# Neural network on original dataset\n",
        "scaler = MinMaxScaler()\n",
        "train_X = scaler.fit_transform(train_X)\n",
        "train_X = pd.DataFrame(train_X, columns = X.columns)\n",
        "\n",
        "valid_X = scaler.fit_transform(valid_X)\n",
        "valid_X = pd.DataFrame(valid_X, columns = X.columns)\n",
        "\n",
        "nn = MLPClassifier(hidden_layer_sizes = (100,30,15),\n",
        "                   activation = \"relu\",\n",
        "                   solver = 'adam',\n",
        "                   learning_rate = \"adaptive\",\n",
        "                   learning_rate_init= 0.001,\n",
        "                   max_iter=500, warm_start = False)\n",
        "nn_model = nn.fit(train_X, train_y)\n",
        "nn_pred= nn_model.predict(valid_X)\n",
        "print(classification_report(valid_y, nn_pred))"
      ],
      "metadata": {
        "colab": {
          "base_uri": "https://localhost:8080/"
        },
        "id": "MMuW_HpYiDsh",
        "outputId": "6cb1d34b-e442-49a6-a321-f260e64a6cea"
      },
      "execution_count": null,
      "outputs": [
        {
          "output_type": "stream",
          "name": "stdout",
          "text": [
            "              precision    recall  f1-score   support\n",
            "\n",
            "       False       0.90      0.95      0.93      2044\n",
            "        True       0.69      0.51      0.59       422\n",
            "\n",
            "    accuracy                           0.88      2466\n",
            "   macro avg       0.80      0.73      0.76      2466\n",
            "weighted avg       0.87      0.88      0.87      2466\n",
            "\n"
          ]
        }
      ]
    },
    {
      "cell_type": "code",
      "source": [
        "# Neural network on oversampled dataset\n",
        "scaler_ov = MinMaxScaler()\n",
        "X_train_OS = scaler_ov.fit_transform(X_train_OS)\n",
        "X_train_OS = pd.DataFrame(X_train_OS, columns = X.columns)\n",
        "\n",
        "nn_OS_model = nn.fit(X_train_OS, y_train_OS)\n",
        "nn_OS_pred= nn_OS_model.predict(valid_X)\n",
        "print(classification_report(valid_y, nn_OS_pred))"
      ],
      "metadata": {
        "colab": {
          "base_uri": "https://localhost:8080/"
        },
        "id": "DsZai50DiGcC",
        "outputId": "a29c9eea-a238-44e9-d098-7db1a0612bec"
      },
      "execution_count": null,
      "outputs": [
        {
          "output_type": "stream",
          "name": "stdout",
          "text": [
            "              precision    recall  f1-score   support\n",
            "\n",
            "       False       0.93      0.89      0.91      2044\n",
            "        True       0.55      0.68      0.61       422\n",
            "\n",
            "    accuracy                           0.85      2466\n",
            "   macro avg       0.74      0.79      0.76      2466\n",
            "weighted avg       0.87      0.85      0.86      2466\n",
            "\n"
          ]
        }
      ]
    },
    {
      "cell_type": "code",
      "source": [
        "# Neural network on undersampled dataset\n",
        "scaler_us = MinMaxScaler()\n",
        "X_train_US = scaler_us.fit_transform(X_train_US)\n",
        "X_train_US = pd.DataFrame(X_train_US, columns = X.columns)\n",
        "\n",
        "nn_US_model = nn.fit(X_train_US, y_train_US)\n",
        "nn_US_pred= nn_US_model.predict(valid_X)\n",
        "print(classification_report(valid_y, nn_US_pred))"
      ],
      "metadata": {
        "colab": {
          "base_uri": "https://localhost:8080/"
        },
        "id": "nwVqb7GpiIlg",
        "outputId": "993cbdb9-5f44-445a-c2a4-40fd7c2bb4db"
      },
      "execution_count": null,
      "outputs": [
        {
          "output_type": "stream",
          "name": "stdout",
          "text": [
            "              precision    recall  f1-score   support\n",
            "\n",
            "       False       0.95      0.83      0.89      2044\n",
            "        True       0.49      0.78      0.60       422\n",
            "\n",
            "    accuracy                           0.82      2466\n",
            "   macro avg       0.72      0.80      0.74      2466\n",
            "weighted avg       0.87      0.82      0.84      2466\n",
            "\n"
          ]
        }
      ]
    },
    {
      "cell_type": "code",
      "source": [
        "\n",
        "import matplotlib.pyplot as plt\n",
        "import seaborn as sns\n",
        "import pandas as pd\n",
        "\n",
        "\n",
        "\n",
        "# Pie Chart for class distribution\n",
        "plt.figure(figsize=(8, 6))\n",
        "shoppers_data['Revenue'].value_counts().plot.pie(autopct='%1.1f%%')\n",
        "plt.title('Class Distribution')\n",
        "plt.ylabel('')\n",
        "plt.show()"
      ],
      "metadata": {
        "colab": {
          "base_uri": "https://localhost:8080/",
          "height": 521
        },
        "id": "SQXUmAuoV9bR",
        "outputId": "5ca81467-79b6-43c2-d2c8-72894652570f"
      },
      "execution_count": null,
      "outputs": [
        {
          "output_type": "display_data",
          "data": {
            "text/plain": [
              "<Figure size 800x600 with 1 Axes>"
            ],
            "image/png": "[encoded data removed]"
          },
          "metadata": {}
        }
      ]
    },
    {
      "cell_type": "code",
      "source": [
        "shoppers_data.columns"
      ],
      "metadata": {
        "colab": {
          "base_uri": "https://localhost:8080/"
        },
        "id": "xJnDmh9FY2UE",
        "outputId": "403eb98d-dc88-4847-b6c2-242ae32bb91f"
      },
      "execution_count": null,
      "outputs": [
        {
          "output_type": "execute_result",
          "data": {
            "text/plain": [
              "Index(['Administrative', 'Administrative_Duration', 'Informational',\n",
              "       'Informational_Duration', 'ProductRelated', 'ProductRelated_Duration',\n",
              "       'BounceRates', 'ExitRates', 'PageValues', 'SpecialDay',\n",
              "       'OperatingSystems', 'Browser', 'Region', 'TrafficType', 'VisitorType',\n",
              "       'Weekend', 'Revenue'],\n",
              "      dtype='object')"
            ]
          },
          "metadata": {},
          "execution_count": 51
        }
      ]
    },
    {
      "cell_type": "code",
      "source": [
        "# Histogram for numerical feature by class\n",
        "plt.figure(figsize=(8, 6))\n",
        "sns.histplot(data=shoppers_data, x='ProductRelated', hue='Revenue', kde=True)\n",
        "plt.title('Histogram of ProductRelated by Class')\n",
        "plt.xlabel('ProductRelated')\n",
        "plt.ylabel('Count')\n",
        "plt.show()\n"
      ],
      "metadata": {
        "colab": {
          "base_uri": "https://localhost:8080/",
          "height": 564
        },
        "id": "UTaU1ditYDE7",
        "outputId": "e7f3c6a8-5ab0-4586-8ae8-6be90740df08"
      },
      "execution_count": null,
      "outputs": [
        {
          "output_type": "display_data",
          "data": {
            "text/plain": [
              "<Figure size 800x600 with 1 Axes>"
            ],
            "image/png": "[encoded data removed]"
          },
          "metadata": {}
        }
      ]
    },
    {
      "cell_type": "code",
      "source": [
        "# Histogram for numerical feature by class\n",
        "plt.figure(figsize=(8, 6))\n",
        "sns.histplot(data=shoppers_data, x='PageValues', hue='Revenue', kde=True)\n",
        "plt.title('Histogram of PageValues by Class')\n",
        "plt.xlabel('PageValues')\n",
        "plt.ylabel('Count')\n",
        "plt.show()\n"
      ],
      "metadata": {
        "colab": {
          "base_uri": "https://localhost:8080/",
          "height": 564
        },
        "id": "beKUfpRSVwu9",
        "outputId": "05e11de7-b222-456c-ce9a-0c480011602e"
      },
      "execution_count": null,
      "outputs": [
        {
          "output_type": "display_data",
          "data": {
            "text/plain": [
              "<Figure size 800x600 with 1 Axes>"
            ],
            "image/png": "[encoded data removed]"
          },
          "metadata": {}
        }
      ]
    },
    {
      "cell_type": "code",
      "source": [
        "\n"
      ],
      "metadata": {
        "id": "cQ-QxHJhaAgk"
      },
      "execution_count": null,
      "outputs": []
    }
  ]
}