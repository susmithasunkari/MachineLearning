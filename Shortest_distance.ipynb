{
  "nbformat": 4,
  "nbformat_minor": 0,
  "metadata": {
    "colab": {
      "provenance": []
    },
    "kernelspec": {
      "name": "python3",
      "display_name": "Python 3"
    },
    "language_info": {
      "name": "python"
    }
  },
  "cells": [
    {
      "cell_type": "code",
      "execution_count": null,
      "metadata": {
        "colab": {
          "base_uri": "https://localhost:8080/"
        },
        "id": "afq2a7c4yFYM",
        "outputId": "e5c24d9e-4ab4-4026-8f80-1036350e6b5f"
      },
      "outputs": [
        {
          "output_type": "stream",
          "name": "stdout",
          "text": [
            "A --> B has a shortest distance of 2\n",
            "A --> C has a shortest distance of 3\n",
            "A --> D has a shortest distance of 6\n",
            "A --> E has a shortest distance of 7\n"
          ]
        }
      ],
      "source": [
        "# Define the graph as an adjacency matrix\n",
        "graph = [\n",
        "    [0, 2, 3, 0, 0],  # Node A\n",
        "    [2, 0, 0, 4, 0],  # Node B\n",
        "    [3, 0, 0, 5, 4],  # Node C\n",
        "    [0, 4, 5, 0, 6],  # Node D\n",
        "    [0, 0, 4, 6, 0]   # Node E\n",
        "]\n",
        "\n",
        "#Initialize parameters\n",
        "num_nodes = len(graph)\n",
        "start_node = 0  #Node A is the source node\n",
        "end_nodes = [1,2,3,4] # find the shortest distances to nodes B,C,D and E\n",
        "\n",
        "#Initialize distance array and visited array\n",
        "dist = [float('inf')] * num_nodes\n",
        "dist[start_node] = 0\n",
        "visited = [False] * num_nodes\n",
        "\n",
        "#Helper function to find the node with the minimum distance\n",
        "def get_min(dist, visited):\n",
        "    min_dist = float('inf')\n",
        "    min_node = -1\n",
        "    for i in range(num_nodes):\n",
        "        if not visited[i] and dist[i] < min_dist:\n",
        "            min_dist = dist[i]\n",
        "            min_node = i\n",
        "    return min_node\n",
        "\n",
        "#Dijkstra algorithm implementation\n",
        "for _ in range(num_nodes):\n",
        "    current_node = get_min(dist, visited)\n",
        "    if current_node == -1: #If all reachable nodes are processed\n",
        "        break\n",
        "    visited[current_node] = True\n",
        "\n",
        "    for neighbor in range(num_nodes):\n",
        "       if graph[current_node][neighbor] > 0:\n",
        "         if dist[current_node] + graph[current_node][neighbor] < dist[neighbor]:\n",
        "            dist[neighbor] = dist[current_node] + graph[current_node][neighbor]\n",
        "\n",
        "\n",
        "#print optimal paths\n",
        "nodes = ['A', 'B', 'C', 'D', 'E']\n",
        "for i, distance in enumerate(dist):\n",
        "  if i != start_node:\n",
        "\n",
        "    print(f\"{nodes[start_node]} --> {nodes[i]} has a shortest distance of {distance}\")\n"
      ]
    }
  ]
}